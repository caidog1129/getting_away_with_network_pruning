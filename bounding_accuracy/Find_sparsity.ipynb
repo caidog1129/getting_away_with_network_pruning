{
 "cells": [
  {
   "cell_type": "code",
   "execution_count": 1,
   "id": "7b6631b2",
   "metadata": {},
   "outputs": [],
   "source": [
    "from MILP import MILP\n",
    "from PruneModel import prune_model, load_model\n",
    "from IPython.display import clear_output\n",
    "from Integrator import newExperiment\n",
    "import matplotlib.pyplot as plt"
   ]
  },
  {
   "cell_type": "code",
   "execution_count": null,
   "id": "06526550",
   "metadata": {},
   "outputs": [],
   "source": [
    "model_arch = \"Perceptron10\" #Perceptron20, Perceptron40, Perceptron100, Perceptron200, Perceptron400\n",
    "dataset = \"MNIST\"\n",
    "strategy = \"LayerMagWeight\"\n",
    "sparsity = [0.75,0.5,0.25,0.1,0.075,0.05,0.025,0.01] #modify this to make graph look like below, record the sparsity you used\n",
    "compressions = [[1/i,1/i] for i in sparsity]\n",
    "#don't change below\n",
    "model_layers = [25, 15, 10]\n",
    "sample_points = 5\n",
    "method = 'none'\n",
    "model_num = 1\n",
    "csv_name = 'testing123'\n",
    "times = 2\n",
    "\n",
    "acc_lst = []\n",
    "acc_temp = []\n",
    "for i in range(times):\n",
    "    acc_temp.append(newExperiment(model_arch, dataset, strategy, compressions, model_layers, csv_name, sample_points, method, model_num, seed=i))\n",
    "    \n",
    "for c in range(len(acc_temp[0])):\n",
    "    sum_a = 0\n",
    "    for seed in range(times):\n",
    "        sum_a += acc_temp[seed][c]\n",
    "    sum_a = sum_a / times\n",
    "    acc_lst.append(sum_a)"
   ]
  },
  {
   "cell_type": "code",
   "execution_count": 11,
   "id": "e2a576d4",
   "metadata": {},
   "outputs": [
    {
     "data": {
      "text/plain": [
       "[<matplotlib.lines.Line2D at 0x7ff7861f9d50>]"
      ]
     },
     "execution_count": 11,
     "metadata": {},
     "output_type": "execute_result"
    },
    {
     "data": {
      "image/png": "[encoded data removed]",
      "text/plain": [
       "<Figure size 432x288 with 1 Axes>"
      ]
     },
     "metadata": {
      "needs_background": "light"
     },
     "output_type": "display_data"
    }
   ],
   "source": [
    "plt.plot([str(i) for i in sparsity], acc_lst, \"-o\")"
   ]
  },
  {
   "cell_type": "code",
   "execution_count": 2,
   "id": "9ba67460",
   "metadata": {},
   "outputs": [
    {
     "name": "stdout",
     "output_type": "stream",
     "text": [
      "\u001b[92mGPU NOT AVAILABLE, USING CPU!\n",
      "\u001b[0m\u001b[95mLogging results to results/20220918-225809-KKTG-LeNet_C10\n",
      "\u001b[0m"
     ]
    },
    {
     "name": "stderr",
     "output_type": "stream",
     "text": [
      "Val -1/15: 100%|██████████| 79/79 [00:01<00:00, 43.56it/s, loss=0.018, top1=0.0958]\n"
     ]
    },
    {
     "name": "stdout",
     "output_type": "stream",
     "text": [
      "\u001b[33m\n",
      "Start epoch 0\n",
      "\u001b[0m"
     ]
    },
    {
     "name": "stderr",
     "output_type": "stream",
     "text": [
      "Train 0/15: 100%|██████████| 391/391 [00:09<00:00, 40.71it/s, loss=0.0155, top1=0.255]\n",
      "Val 0/15: 100%|██████████| 79/79 [00:01<00:00, 60.87it/s, loss=0.0129, top1=0.388]\n"
     ]
    },
    {
     "name": "stdout",
     "output_type": "stream",
     "text": [
      "\u001b[33m\n",
      "Start epoch 1\n",
      "\u001b[0m"
     ]
    },
    {
     "name": "stderr",
     "output_type": "stream",
     "text": [
      "Train 1/15: 100%|██████████| 391/391 [00:10<00:00, 36.89it/s, loss=0.0126, top1=0.407]\n",
      "Val 1/15: 100%|██████████| 79/79 [00:01<00:00, 62.96it/s, loss=0.0115, top1=0.462]\n"
     ]
    },
    {
     "name": "stdout",
     "output_type": "stream",
     "text": [
      "\u001b[33m\n",
      "Start epoch 2\n",
      "\u001b[0m"
     ]
    },
    {
     "name": "stderr",
     "output_type": "stream",
     "text": [
      "Train 2/15: 100%|██████████| 391/391 [00:10<00:00, 36.37it/s, loss=0.0114, top1=0.473]\n",
      "Val 2/15: 100%|██████████| 79/79 [00:01<00:00, 69.72it/s, loss=0.0101, top1=0.531] \n"
     ]
    },
    {
     "name": "stdout",
     "output_type": "stream",
     "text": [
      "\u001b[33m\n",
      "Start epoch 3\n",
      "\u001b[0m"
     ]
    },
    {
     "name": "stderr",
     "output_type": "stream",
     "text": [
      "Train 3/15: 100%|██████████| 391/391 [00:10<00:00, 36.84it/s, loss=0.0107, top1=0.507]\n",
      "Val 3/15: 100%|██████████| 79/79 [00:01<00:00, 50.79it/s, loss=0.00969, top1=0.553]\n"
     ]
    },
    {
     "name": "stdout",
     "output_type": "stream",
     "text": [
      "\u001b[33m\n",
      "Start epoch 4\n",
      "\u001b[0m"
     ]
    },
    {
     "name": "stderr",
     "output_type": "stream",
     "text": [
      "Train 4/15: 100%|██████████| 391/391 [00:10<00:00, 37.14it/s, loss=0.0102, top1=0.531]\n",
      "Val 4/15: 100%|██████████| 79/79 [00:01<00:00, 54.09it/s, loss=0.00915, top1=0.574]\n"
     ]
    },
    {
     "name": "stdout",
     "output_type": "stream",
     "text": [
      "\u001b[33m\n",
      "Start epoch 5\n",
      "\u001b[0m"
     ]
    },
    {
     "name": "stderr",
     "output_type": "stream",
     "text": [
      "Train 5/15: 100%|██████████| 391/391 [00:09<00:00, 41.55it/s, loss=0.00986, top1=0.548]\n",
      "Val 5/15: 100%|██████████| 79/79 [00:01<00:00, 47.21it/s, loss=0.00923, top1=0.569]\n"
     ]
    },
    {
     "name": "stdout",
     "output_type": "stream",
     "text": [
      "\u001b[33m\n",
      "Start epoch 6\n",
      "\u001b[0m"
     ]
    },
    {
     "name": "stderr",
     "output_type": "stream",
     "text": [
      "Train 6/15: 100%|██████████| 391/391 [00:09<00:00, 40.30it/s, loss=0.0096, top1=0.562] \n",
      "Val 6/15: 100%|██████████| 79/79 [00:01<00:00, 60.68it/s, loss=0.00889, top1=0.59] \n"
     ]
    },
    {
     "name": "stdout",
     "output_type": "stream",
     "text": [
      "\u001b[33m\n",
      "Start epoch 7\n",
      "\u001b[0m"
     ]
    },
    {
     "name": "stderr",
     "output_type": "stream",
     "text": [
      "Train 7/15: 100%|██████████| 391/391 [00:10<00:00, 38.54it/s, loss=0.00933, top1=0.577]\n",
      "Val 7/15: 100%|██████████| 79/79 [00:02<00:00, 39.24it/s, loss=0.00889, top1=0.592]\n"
     ]
    },
    {
     "name": "stdout",
     "output_type": "stream",
     "text": [
      "\u001b[33m\n",
      "Start epoch 8\n",
      "\u001b[0m"
     ]
    },
    {
     "name": "stderr",
     "output_type": "stream",
     "text": [
      "Train 8/15: 100%|██████████| 391/391 [00:10<00:00, 36.93it/s, loss=0.00917, top1=0.584]\n",
      "Val 8/15: 100%|██████████| 79/79 [00:02<00:00, 33.30it/s, loss=0.00858, top1=0.606]\n"
     ]
    },
    {
     "name": "stdout",
     "output_type": "stream",
     "text": [
      "\u001b[33m\n",
      "Start epoch 9\n",
      "\u001b[0m"
     ]
    },
    {
     "name": "stderr",
     "output_type": "stream",
     "text": [
      "Train 9/15: 100%|██████████| 391/391 [00:09<00:00, 40.81it/s, loss=0.00898, top1=0.593]\n",
      "Val 9/15: 100%|██████████| 79/79 [00:01<00:00, 45.65it/s, loss=0.00861, top1=0.605]\n"
     ]
    },
    {
     "name": "stdout",
     "output_type": "stream",
     "text": [
      "\u001b[33m\n",
      "Start epoch 10\n",
      "\u001b[0m"
     ]
    },
    {
     "name": "stderr",
     "output_type": "stream",
     "text": [
      "Train 10/15: 100%|██████████| 391/391 [00:10<00:00, 37.03it/s, loss=0.00883, top1=0.599]\n",
      "Val 10/15: 100%|██████████| 79/79 [00:01<00:00, 43.80it/s, loss=0.00844, top1=0.614]\n"
     ]
    },
    {
     "name": "stdout",
     "output_type": "stream",
     "text": [
      "\u001b[33m\n",
      "Start epoch 11\n",
      "\u001b[0m"
     ]
    },
    {
     "name": "stderr",
     "output_type": "stream",
     "text": [
      "Train 11/15: 100%|██████████| 391/391 [00:09<00:00, 41.87it/s, loss=0.00871, top1=0.608]\n",
      "Val 11/15: 100%|██████████| 79/79 [00:01<00:00, 46.16it/s, loss=0.00825, top1=0.626]\n"
     ]
    },
    {
     "name": "stdout",
     "output_type": "stream",
     "text": [
      "\u001b[33m\n",
      "Start epoch 12\n",
      "\u001b[0m"
     ]
    },
    {
     "name": "stderr",
     "output_type": "stream",
     "text": [
      "Train 12/15: 100%|██████████| 391/391 [00:10<00:00, 36.59it/s, loss=0.00858, top1=0.612]\n",
      "Val 12/15: 100%|██████████| 79/79 [00:01<00:00, 52.44it/s, loss=0.00806, top1=0.634]\n"
     ]
    },
    {
     "name": "stdout",
     "output_type": "stream",
     "text": [
      "\u001b[33m\n",
      "Start epoch 13\n",
      "\u001b[0m"
     ]
    },
    {
     "name": "stderr",
     "output_type": "stream",
     "text": [
      "Train 13/15: 100%|██████████| 391/391 [00:09<00:00, 43.37it/s, loss=0.00848, top1=0.618]\n",
      "Val 13/15: 100%|██████████| 79/79 [00:01<00:00, 62.33it/s, loss=0.00809, top1=0.633]\n"
     ]
    },
    {
     "name": "stdout",
     "output_type": "stream",
     "text": [
      "\u001b[33m\n",
      "Start epoch 14\n",
      "\u001b[0m"
     ]
    },
    {
     "name": "stderr",
     "output_type": "stream",
     "text": [
      "Train 14/15: 100%|██████████| 391/391 [00:10<00:00, 36.19it/s, loss=0.00832, top1=0.624]\n",
      "Val 14/15: 100%|██████████| 79/79 [00:01<00:00, 59.64it/s, loss=0.00781, top1=0.645]\n"
     ]
    },
    {
     "name": "stdout",
     "output_type": "stream",
     "text": [
      "\u001b[92mModel Pruned using LayerMagWeight strategy\n",
      "\u001b[0m\u001b[33m\n",
      "Start epoch 15\n",
      "\u001b[0m"
     ]
    },
    {
     "name": "stderr",
     "output_type": "stream",
     "text": [
      "Train 15/15: 100%|██████████| 391/391 [00:10<00:00, 39.09it/s, loss=0.00823, top1=0.629]\n",
      "Val 15/15: 100%|██████████| 79/79 [00:01<00:00, 54.17it/s, loss=0.00783, top1=0.645]\n"
     ]
    },
    {
     "name": "stdout",
     "output_type": "stream",
     "text": [
      "\u001b[33m\n",
      "Start epoch 16\n",
      "\u001b[0m"
     ]
    },
    {
     "name": "stderr",
     "output_type": "stream",
     "text": [
      "Train 16/15: 100%|██████████| 391/391 [00:11<00:00, 33.80it/s, loss=0.00817, top1=0.633]\n",
      "Val 16/15: 100%|██████████| 79/79 [00:01<00:00, 59.90it/s, loss=0.00771, top1=0.654]\n"
     ]
    },
    {
     "name": "stdout",
     "output_type": "stream",
     "text": [
      "\u001b[33m\n",
      "Start epoch 17\n",
      "\u001b[0m"
     ]
    },
    {
     "name": "stderr",
     "output_type": "stream",
     "text": [
      "Train 17/15: 100%|██████████| 391/391 [00:10<00:00, 37.80it/s, loss=0.00811, top1=0.634]\n",
      "Val 17/15: 100%|██████████| 79/79 [00:01<00:00, 55.55it/s, loss=0.0081, top1=0.637] \n"
     ]
    },
    {
     "name": "stdout",
     "output_type": "stream",
     "text": [
      "\u001b[33m\n",
      "Start epoch 18\n",
      "\u001b[0m"
     ]
    },
    {
     "name": "stderr",
     "output_type": "stream",
     "text": [
      "Train 18/15: 100%|██████████| 391/391 [00:10<00:00, 37.27it/s, loss=0.008, top1=0.639]  \n",
      "Val 18/15: 100%|██████████| 79/79 [00:02<00:00, 37.32it/s, loss=0.00747, top1=0.659]\n"
     ]
    },
    {
     "name": "stdout",
     "output_type": "stream",
     "text": [
      "\u001b[33m\n",
      "Start epoch 19\n",
      "\u001b[0m"
     ]
    },
    {
     "name": "stderr",
     "output_type": "stream",
     "text": [
      "Train 19/15: 100%|██████████| 391/391 [00:09<00:00, 41.31it/s, loss=0.00794, top1=0.643]\n",
      "Val 19/15: 100%|██████████| 79/79 [00:01<00:00, 44.63it/s, loss=0.00756, top1=0.661]\n"
     ]
    },
    {
     "name": "stdout",
     "output_type": "stream",
     "text": [
      "\u001b[33m\n",
      "Start epoch 20\n",
      "\u001b[0m"
     ]
    },
    {
     "name": "stderr",
     "output_type": "stream",
     "text": [
      "Train 20/15: 100%|██████████| 391/391 [00:11<00:00, 33.90it/s, loss=0.00789, top1=0.644]\n",
      "Val 20/15: 100%|██████████| 79/79 [00:01<00:00, 60.76it/s, loss=0.00744, top1=0.661]\n"
     ]
    },
    {
     "name": "stdout",
     "output_type": "stream",
     "text": [
      "\u001b[33m\n",
      "Start epoch 21\n",
      "\u001b[0m"
     ]
    },
    {
     "name": "stderr",
     "output_type": "stream",
     "text": [
      "Train 21/15: 100%|██████████| 391/391 [00:09<00:00, 41.93it/s, loss=0.00782, top1=0.649]\n",
      "Val 21/15: 100%|██████████| 79/79 [00:01<00:00, 51.56it/s, loss=0.00736, top1=0.667]\n"
     ]
    },
    {
     "name": "stdout",
     "output_type": "stream",
     "text": [
      "\u001b[33m\n",
      "Start epoch 22\n",
      "\u001b[0m"
     ]
    },
    {
     "name": "stderr",
     "output_type": "stream",
     "text": [
      "Train 22/15: 100%|██████████| 391/391 [00:09<00:00, 40.41it/s, loss=0.00774, top1=0.653]\n",
      "Val 22/15: 100%|██████████| 79/79 [00:01<00:00, 57.78it/s, loss=0.00722, top1=0.671]\n"
     ]
    },
    {
     "name": "stdout",
     "output_type": "stream",
     "text": [
      "\u001b[33m\n",
      "Start epoch 23\n",
      "\u001b[0m"
     ]
    },
    {
     "name": "stderr",
     "output_type": "stream",
     "text": [
      "Train 23/15: 100%|██████████| 391/391 [00:10<00:00, 38.34it/s, loss=0.0077, top1=0.655] \n",
      "Val 23/15: 100%|██████████| 79/79 [00:01<00:00, 70.63it/s, loss=0.00722, top1=0.676]\n"
     ]
    },
    {
     "name": "stdout",
     "output_type": "stream",
     "text": [
      "\u001b[33m\n",
      "Start epoch 24\n",
      "\u001b[0m"
     ]
    },
    {
     "name": "stderr",
     "output_type": "stream",
     "text": [
      "Train 24/15: 100%|██████████| 391/391 [00:12<00:00, 30.27it/s, loss=0.00764, top1=0.656]\n",
      "Val 24/15: 100%|██████████| 79/79 [00:01<00:00, 47.04it/s, loss=0.0072, top1=0.673] \n"
     ]
    },
    {
     "name": "stdout",
     "output_type": "stream",
     "text": [
      "\u001b[33m\n",
      "Start epoch 25\n",
      "\u001b[0m"
     ]
    },
    {
     "name": "stderr",
     "output_type": "stream",
     "text": [
      "Train 25/15: 100%|██████████| 391/391 [00:09<00:00, 43.24it/s, loss=0.00759, top1=0.658]\n",
      "Val 25/15: 100%|██████████| 79/79 [00:01<00:00, 54.39it/s, loss=0.00741, top1=0.664]\n"
     ]
    },
    {
     "name": "stdout",
     "output_type": "stream",
     "text": [
      "\u001b[33m\n",
      "Start epoch 26\n",
      "\u001b[0m"
     ]
    },
    {
     "name": "stderr",
     "output_type": "stream",
     "text": [
      "Train 26/15: 100%|██████████| 391/391 [00:11<00:00, 35.01it/s, loss=0.0075, top1=0.663] \n",
      "Val 26/15: 100%|██████████| 79/79 [00:01<00:00, 56.90it/s, loss=0.00731, top1=0.665]\n"
     ]
    },
    {
     "name": "stdout",
     "output_type": "stream",
     "text": [
      "\u001b[33m\n",
      "Start epoch 27\n",
      "\u001b[0m"
     ]
    },
    {
     "name": "stderr",
     "output_type": "stream",
     "text": [
      "Train 27/15: 100%|██████████| 391/391 [00:10<00:00, 38.20it/s, loss=0.00751, top1=0.663]\n",
      "Val 27/15: 100%|██████████| 79/79 [00:01<00:00, 49.15it/s, loss=0.00697, top1=0.683]\n"
     ]
    },
    {
     "name": "stdout",
     "output_type": "stream",
     "text": [
      "\u001b[33m\n",
      "Start epoch 28\n",
      "\u001b[0m"
     ]
    },
    {
     "name": "stderr",
     "output_type": "stream",
     "text": [
      "Train 28/15: 100%|██████████| 391/391 [00:10<00:00, 38.77it/s, loss=0.00746, top1=0.667]\n",
      "Val 28/15: 100%|██████████| 79/79 [00:02<00:00, 36.55it/s, loss=0.00708, top1=0.681]\n"
     ]
    },
    {
     "name": "stdout",
     "output_type": "stream",
     "text": [
      "\u001b[33m\n",
      "Start epoch 29\n",
      "\u001b[0m"
     ]
    },
    {
     "name": "stderr",
     "output_type": "stream",
     "text": [
      "Train 29/15: 100%|██████████| 391/391 [00:10<00:00, 38.20it/s, loss=0.00742, top1=0.668]\n",
      "Val 29/15: 100%|██████████| 79/79 [00:01<00:00, 63.32it/s, loss=0.00697, top1=0.683]\n"
     ]
    },
    {
     "name": "stdout",
     "output_type": "stream",
     "text": [
      "\u001b[92mModel Pruned using LayerMagWeight strategy\n",
      "\u001b[0m\u001b[92mModel Pruned using LayerMagWeight strategy\n",
      "\u001b[0m\u001b[33m\n",
      "Start epoch 30\n",
      "\u001b[0m"
     ]
    },
    {
     "name": "stderr",
     "output_type": "stream",
     "text": [
      "Train 30/15: 100%|██████████| 391/391 [00:11<00:00, 34.83it/s, loss=0.00936, top1=0.578]\n",
      "Val 30/15: 100%|██████████| 79/79 [00:02<00:00, 37.73it/s, loss=0.00859, top1=0.608]\n"
     ]
    },
    {
     "name": "stdout",
     "output_type": "stream",
     "text": [
      "\u001b[33m\n",
      "Start epoch 31\n",
      "\u001b[0m"
     ]
    },
    {
     "name": "stderr",
     "output_type": "stream",
     "text": [
      "Train 31/15: 100%|██████████| 391/391 [00:10<00:00, 37.83it/s, loss=0.00886, top1=0.597]\n",
      "Val 31/15: 100%|██████████| 79/79 [00:01<00:00, 49.48it/s, loss=0.00813, top1=0.627]\n"
     ]
    },
    {
     "name": "stdout",
     "output_type": "stream",
     "text": [
      "\u001b[33m\n",
      "Start epoch 32\n",
      "\u001b[0m"
     ]
    },
    {
     "name": "stderr",
     "output_type": "stream",
     "text": [
      "Train 32/15: 100%|██████████| 391/391 [00:11<00:00, 34.16it/s, loss=0.00873, top1=0.605]\n",
      "Val 32/15: 100%|██████████| 79/79 [00:01<00:00, 46.47it/s, loss=0.00808, top1=0.633]\n"
     ]
    },
    {
     "name": "stdout",
     "output_type": "stream",
     "text": [
      "\u001b[33m\n",
      "Start epoch 33\n",
      "\u001b[0m"
     ]
    },
    {
     "name": "stderr",
     "output_type": "stream",
     "text": [
      "Train 33/15: 100%|██████████| 391/391 [00:09<00:00, 41.87it/s, loss=0.0086, top1=0.612] \n",
      "Val 33/15: 100%|██████████| 79/79 [00:01<00:00, 41.37it/s, loss=0.00798, top1=0.636]\n"
     ]
    },
    {
     "name": "stdout",
     "output_type": "stream",
     "text": [
      "\u001b[33m\n",
      "Start epoch 34\n",
      "\u001b[0m"
     ]
    },
    {
     "name": "stderr",
     "output_type": "stream",
     "text": [
      "Train 34/15: 100%|██████████| 391/391 [00:12<00:00, 32.11it/s, loss=0.00856, top1=0.614]\n",
      "Val 34/15: 100%|██████████| 79/79 [00:01<00:00, 55.31it/s, loss=0.00783, top1=0.644]\n"
     ]
    },
    {
     "name": "stdout",
     "output_type": "stream",
     "text": [
      "\u001b[33m\n",
      "Start epoch 35\n",
      "\u001b[0m"
     ]
    },
    {
     "name": "stderr",
     "output_type": "stream",
     "text": [
      "Train 35/15: 100%|██████████| 391/391 [00:10<00:00, 36.46it/s, loss=0.00843, top1=0.619]\n",
      "Val 35/15: 100%|██████████| 79/79 [00:01<00:00, 43.21it/s, loss=0.00793, top1=0.638]\n"
     ]
    },
    {
     "name": "stdout",
     "output_type": "stream",
     "text": [
      "\u001b[33m\n",
      "Start epoch 36\n",
      "\u001b[0m"
     ]
    },
    {
     "name": "stderr",
     "output_type": "stream",
     "text": [
      "Train 36/15: 100%|██████████| 391/391 [00:11<00:00, 35.01it/s, loss=0.00848, top1=0.618]\n",
      "Val 36/15: 100%|██████████| 79/79 [00:01<00:00, 54.46it/s, loss=0.00785, top1=0.643]\n"
     ]
    },
    {
     "name": "stdout",
     "output_type": "stream",
     "text": [
      "\u001b[33m\n",
      "Start epoch 37\n",
      "\u001b[0m"
     ]
    },
    {
     "name": "stderr",
     "output_type": "stream",
     "text": [
      "Train 37/15: 100%|██████████| 391/391 [00:10<00:00, 35.68it/s, loss=0.00841, top1=0.618]\n",
      "Val 37/15: 100%|██████████| 79/79 [00:01<00:00, 49.91it/s, loss=0.00781, top1=0.65] \n"
     ]
    },
    {
     "name": "stdout",
     "output_type": "stream",
     "text": [
      "\u001b[33m\n",
      "Start epoch 38\n",
      "\u001b[0m"
     ]
    },
    {
     "name": "stderr",
     "output_type": "stream",
     "text": [
      "Train 38/15: 100%|██████████| 391/391 [00:10<00:00, 37.20it/s, loss=0.00838, top1=0.623]\n",
      "Val 38/15: 100%|██████████| 79/79 [00:01<00:00, 63.85it/s, loss=0.00766, top1=0.654]\n"
     ]
    },
    {
     "name": "stdout",
     "output_type": "stream",
     "text": [
      "\u001b[33m\n",
      "Start epoch 39\n",
      "\u001b[0m"
     ]
    },
    {
     "name": "stderr",
     "output_type": "stream",
     "text": [
      "Train 39/15: 100%|██████████| 391/391 [00:10<00:00, 38.93it/s, loss=0.00836, top1=0.623]\n",
      "Val 39/15: 100%|██████████| 79/79 [00:01<00:00, 49.68it/s, loss=0.00785, top1=0.642]\n"
     ]
    },
    {
     "name": "stdout",
     "output_type": "stream",
     "text": [
      "\u001b[33m\n",
      "Start epoch 40\n",
      "\u001b[0m"
     ]
    },
    {
     "name": "stderr",
     "output_type": "stream",
     "text": [
      "Train 40/15: 100%|██████████| 391/391 [00:10<00:00, 37.56it/s, loss=0.00834, top1=0.624]\n",
      "Val 40/15: 100%|██████████| 79/79 [00:01<00:00, 46.29it/s, loss=0.00777, top1=0.647]\n"
     ]
    },
    {
     "name": "stdout",
     "output_type": "stream",
     "text": [
      "\u001b[33m\n",
      "Start epoch 41\n",
      "\u001b[0m"
     ]
    },
    {
     "name": "stderr",
     "output_type": "stream",
     "text": [
      "Train 41/15: 100%|██████████| 391/391 [00:09<00:00, 43.31it/s, loss=0.00832, top1=0.625]\n",
      "Val 41/15: 100%|██████████| 79/79 [00:01<00:00, 51.19it/s, loss=0.00763, top1=0.649]\n"
     ]
    },
    {
     "name": "stdout",
     "output_type": "stream",
     "text": [
      "\u001b[33m\n",
      "Start epoch 42\n",
      "\u001b[0m"
     ]
    },
    {
     "name": "stderr",
     "output_type": "stream",
     "text": [
      "Train 42/15: 100%|██████████| 391/391 [00:09<00:00, 41.30it/s, loss=0.00826, top1=0.627]\n",
      "Val 42/15: 100%|██████████| 79/79 [00:01<00:00, 58.62it/s, loss=0.00762, top1=0.65] \n"
     ]
    },
    {
     "name": "stdout",
     "output_type": "stream",
     "text": [
      "\u001b[33m\n",
      "Start epoch 43\n",
      "\u001b[0m"
     ]
    },
    {
     "name": "stderr",
     "output_type": "stream",
     "text": [
      "Train 43/15: 100%|██████████| 391/391 [00:09<00:00, 39.32it/s, loss=0.00823, top1=0.627]\n",
      "Val 43/15: 100%|██████████| 79/79 [00:01<00:00, 47.03it/s, loss=0.00762, top1=0.652]\n"
     ]
    },
    {
     "name": "stdout",
     "output_type": "stream",
     "text": [
      "\u001b[33m\n",
      "Start epoch 44\n",
      "\u001b[0m"
     ]
    },
    {
     "name": "stderr",
     "output_type": "stream",
     "text": [
      "Train 44/15: 100%|██████████| 391/391 [00:12<00:00, 31.02it/s, loss=0.00821, top1=0.631]\n",
      "Val 44/15: 100%|██████████| 79/79 [00:01<00:00, 51.28it/s, loss=0.00762, top1=0.654]\n"
     ]
    },
    {
     "name": "stdout",
     "output_type": "stream",
     "text": [
      "\u001b[92mModel Pruned using LayerMagWeight strategy\n",
      "\u001b[0m\u001b[92mModel Pruned using LayerMagWeight strategy\n",
      "\u001b[0m\u001b[33m\n",
      "Start epoch 45\n",
      "\u001b[0m"
     ]
    },
    {
     "name": "stderr",
     "output_type": "stream",
     "text": [
      "Train 45/15: 100%|██████████| 391/391 [00:11<00:00, 33.48it/s, loss=0.0135, top1=0.375]\n",
      "Val 45/15: 100%|██████████| 79/79 [00:01<00:00, 39.67it/s, loss=0.0111, top1=0.485]\n"
     ]
    },
    {
     "name": "stdout",
     "output_type": "stream",
     "text": [
      "\u001b[33m\n",
      "Start epoch 46\n",
      "\u001b[0m"
     ]
    },
    {
     "name": "stderr",
     "output_type": "stream",
     "text": [
      "Train 46/15: 100%|██████████| 391/391 [00:10<00:00, 36.97it/s, loss=0.0117, top1=0.459]\n",
      "Val 46/15: 100%|██████████| 79/79 [00:01<00:00, 58.62it/s, loss=0.0107, top1=0.509]\n"
     ]
    },
    {
     "name": "stdout",
     "output_type": "stream",
     "text": [
      "\u001b[33m\n",
      "Start epoch 47\n",
      "\u001b[0m"
     ]
    },
    {
     "name": "stderr",
     "output_type": "stream",
     "text": [
      "Train 47/15: 100%|██████████| 391/391 [00:10<00:00, 35.70it/s, loss=0.0114, top1=0.475]\n",
      "Val 47/15: 100%|██████████| 79/79 [00:01<00:00, 69.77it/s, loss=0.0105, top1=0.519]\n"
     ]
    },
    {
     "name": "stdout",
     "output_type": "stream",
     "text": [
      "\u001b[33m\n",
      "Start epoch 48\n",
      "\u001b[0m"
     ]
    },
    {
     "name": "stderr",
     "output_type": "stream",
     "text": [
      "Train 48/15: 100%|██████████| 391/391 [00:09<00:00, 39.31it/s, loss=0.0111, top1=0.49] \n",
      "Val 48/15: 100%|██████████| 79/79 [00:01<00:00, 48.95it/s, loss=0.0103, top1=0.523]\n"
     ]
    },
    {
     "name": "stdout",
     "output_type": "stream",
     "text": [
      "\u001b[33m\n",
      "Start epoch 49\n",
      "\u001b[0m"
     ]
    },
    {
     "name": "stderr",
     "output_type": "stream",
     "text": [
      "Train 49/15: 100%|██████████| 391/391 [00:11<00:00, 33.45it/s, loss=0.011, top1=0.495] \n",
      "Val 49/15: 100%|██████████| 79/79 [00:02<00:00, 34.96it/s, loss=0.0101, top1=0.532]\n"
     ]
    },
    {
     "name": "stdout",
     "output_type": "stream",
     "text": [
      "\u001b[33m\n",
      "Start epoch 50\n",
      "\u001b[0m"
     ]
    },
    {
     "name": "stderr",
     "output_type": "stream",
     "text": [
      "Train 50/15: 100%|██████████| 391/391 [00:11<00:00, 33.88it/s, loss=0.0109, top1=0.502]\n",
      "Val 50/15: 100%|██████████| 79/79 [00:01<00:00, 46.71it/s, loss=0.0101, top1=0.536]\n"
     ]
    },
    {
     "name": "stdout",
     "output_type": "stream",
     "text": [
      "\u001b[33m\n",
      "Start epoch 51\n",
      "\u001b[0m"
     ]
    },
    {
     "name": "stderr",
     "output_type": "stream",
     "text": [
      "Train 51/15: 100%|██████████| 391/391 [00:11<00:00, 34.41it/s, loss=0.0108, top1=0.507]\n",
      "Val 51/15: 100%|██████████| 79/79 [00:01<00:00, 52.05it/s, loss=0.00992, top1=0.544]\n"
     ]
    },
    {
     "name": "stdout",
     "output_type": "stream",
     "text": [
      "\u001b[33m\n",
      "Start epoch 52\n",
      "\u001b[0m"
     ]
    },
    {
     "name": "stderr",
     "output_type": "stream",
     "text": [
      "Train 52/15: 100%|██████████| 391/391 [00:10<00:00, 37.51it/s, loss=0.0108, top1=0.509]\n",
      "Val 52/15: 100%|██████████| 79/79 [00:01<00:00, 40.60it/s, loss=0.00984, top1=0.551]\n"
     ]
    },
    {
     "name": "stdout",
     "output_type": "stream",
     "text": [
      "\u001b[33m\n",
      "Start epoch 53\n",
      "\u001b[0m"
     ]
    },
    {
     "name": "stderr",
     "output_type": "stream",
     "text": [
      "Train 53/15: 100%|██████████| 391/391 [00:11<00:00, 33.86it/s, loss=0.0107, top1=0.514]\n",
      "Val 53/15: 100%|██████████| 79/79 [00:01<00:00, 49.63it/s, loss=0.0098, top1=0.551] \n"
     ]
    },
    {
     "name": "stdout",
     "output_type": "stream",
     "text": [
      "\u001b[33m\n",
      "Start epoch 54\n",
      "\u001b[0m"
     ]
    },
    {
     "name": "stderr",
     "output_type": "stream",
     "text": [
      "Train 54/15: 100%|██████████| 391/391 [00:10<00:00, 38.37it/s, loss=0.0107, top1=0.514]\n",
      "Val 54/15: 100%|██████████| 79/79 [00:01<00:00, 45.86it/s, loss=0.00975, top1=0.553]\n"
     ]
    },
    {
     "name": "stdout",
     "output_type": "stream",
     "text": [
      "\u001b[33m\n",
      "Start epoch 55\n",
      "\u001b[0m"
     ]
    },
    {
     "name": "stderr",
     "output_type": "stream",
     "text": [
      "Train 55/15: 100%|██████████| 391/391 [00:10<00:00, 38.45it/s, loss=0.0106, top1=0.519]\n",
      "Val 55/15: 100%|██████████| 79/79 [00:00<00:00, 79.73it/s, loss=0.00987, top1=0.546] \n"
     ]
    },
    {
     "name": "stdout",
     "output_type": "stream",
     "text": [
      "\u001b[33m\n",
      "Start epoch 56\n",
      "\u001b[0m"
     ]
    },
    {
     "name": "stderr",
     "output_type": "stream",
     "text": [
      "Train 56/15: 100%|██████████| 391/391 [00:11<00:00, 33.76it/s, loss=0.0105, top1=0.521]\n",
      "Val 56/15: 100%|██████████| 79/79 [00:01<00:00, 40.76it/s, loss=0.00957, top1=0.565]\n"
     ]
    },
    {
     "name": "stdout",
     "output_type": "stream",
     "text": [
      "\u001b[33m\n",
      "Start epoch 57\n",
      "\u001b[0m"
     ]
    },
    {
     "name": "stderr",
     "output_type": "stream",
     "text": [
      "Train 57/15: 100%|██████████| 391/391 [00:11<00:00, 35.46it/s, loss=0.0105, top1=0.522]\n",
      "Val 57/15: 100%|██████████| 79/79 [00:01<00:00, 60.09it/s, loss=0.00959, top1=0.562]\n"
     ]
    },
    {
     "name": "stdout",
     "output_type": "stream",
     "text": [
      "\u001b[33m\n",
      "Start epoch 58\n",
      "\u001b[0m"
     ]
    },
    {
     "name": "stderr",
     "output_type": "stream",
     "text": [
      "Train 58/15: 100%|██████████| 391/391 [00:10<00:00, 36.07it/s, loss=0.0104, top1=0.526]\n",
      "Val 58/15: 100%|██████████| 79/79 [00:01<00:00, 51.30it/s, loss=0.00947, top1=0.568]\n"
     ]
    },
    {
     "name": "stdout",
     "output_type": "stream",
     "text": [
      "\u001b[33m\n",
      "Start epoch 59\n",
      "\u001b[0m"
     ]
    },
    {
     "name": "stderr",
     "output_type": "stream",
     "text": [
      "Train 59/15: 100%|██████████| 391/391 [00:10<00:00, 36.30it/s, loss=0.0105, top1=0.527]\n",
      "Val 59/15: 100%|██████████| 79/79 [00:01<00:00, 43.00it/s, loss=0.00949, top1=0.566]\n"
     ]
    },
    {
     "name": "stdout",
     "output_type": "stream",
     "text": [
      "\u001b[92mModel Pruned using LayerMagWeight strategy\n",
      "\u001b[0m\u001b[92mModel Pruned using LayerMagWeight strategy\n",
      "\u001b[0m\u001b[33m\n",
      "Start epoch 60\n",
      "\u001b[0m"
     ]
    },
    {
     "name": "stderr",
     "output_type": "stream",
     "text": [
      "Train 60/15: 100%|██████████| 391/391 [00:09<00:00, 41.28it/s, loss=0.0175, top1=0.148]\n",
      "Val 60/15: 100%|██████████| 79/79 [00:01<00:00, 46.35it/s, loss=0.0158, top1=0.217]\n"
     ]
    },
    {
     "name": "stdout",
     "output_type": "stream",
     "text": [
      "\u001b[33m\n",
      "Start epoch 61\n",
      "\u001b[0m"
     ]
    },
    {
     "name": "stderr",
     "output_type": "stream",
     "text": [
      "Train 61/15: 100%|██████████| 391/391 [00:08<00:00, 46.09it/s, loss=0.0154, top1=0.241]\n",
      "Val 61/15: 100%|██████████| 79/79 [00:01<00:00, 71.49it/s, loss=0.0148, top1=0.272]\n"
     ]
    },
    {
     "name": "stdout",
     "output_type": "stream",
     "text": [
      "\u001b[33m\n",
      "Start epoch 62\n",
      "\u001b[0m"
     ]
    },
    {
     "name": "stderr",
     "output_type": "stream",
     "text": [
      "Train 62/15: 100%|██████████| 391/391 [00:12<00:00, 31.00it/s, loss=0.0149, top1=0.268]\n",
      "Val 62/15: 100%|██████████| 79/79 [00:01<00:00, 50.46it/s, loss=0.0144, top1=0.294]\n"
     ]
    },
    {
     "name": "stdout",
     "output_type": "stream",
     "text": [
      "\u001b[33m\n",
      "Start epoch 63\n",
      "\u001b[0m"
     ]
    },
    {
     "name": "stderr",
     "output_type": "stream",
     "text": [
      "Train 63/15: 100%|██████████| 391/391 [00:10<00:00, 37.36it/s, loss=0.0146, top1=0.287]\n",
      "Val 63/15: 100%|██████████| 79/79 [00:01<00:00, 58.71it/s, loss=0.014, top1=0.306] \n"
     ]
    },
    {
     "name": "stdout",
     "output_type": "stream",
     "text": [
      "\u001b[33m\n",
      "Start epoch 64\n",
      "\u001b[0m"
     ]
    },
    {
     "name": "stderr",
     "output_type": "stream",
     "text": [
      "Train 64/15: 100%|██████████| 391/391 [00:12<00:00, 32.17it/s, loss=0.0144, top1=0.293]\n",
      "Val 64/15: 100%|██████████| 79/79 [00:01<00:00, 43.36it/s, loss=0.014, top1=0.306] \n"
     ]
    },
    {
     "name": "stdout",
     "output_type": "stream",
     "text": [
      "\u001b[33m\n",
      "Start epoch 65\n",
      "\u001b[0m"
     ]
    },
    {
     "name": "stderr",
     "output_type": "stream",
     "text": [
      "Train 65/15: 100%|██████████| 391/391 [00:10<00:00, 36.10it/s, loss=0.0142, top1=0.298]\n",
      "Val 65/15: 100%|██████████| 79/79 [00:01<00:00, 47.05it/s, loss=0.0138, top1=0.31] \n"
     ]
    },
    {
     "name": "stdout",
     "output_type": "stream",
     "text": [
      "\u001b[33m\n",
      "Start epoch 66\n",
      "\u001b[0m"
     ]
    },
    {
     "name": "stderr",
     "output_type": "stream",
     "text": [
      "Train 66/15: 100%|██████████| 391/391 [00:10<00:00, 36.17it/s, loss=0.0142, top1=0.302]\n",
      "Val 66/15: 100%|██████████| 79/79 [00:01<00:00, 41.32it/s, loss=0.0137, top1=0.318]\n"
     ]
    },
    {
     "name": "stdout",
     "output_type": "stream",
     "text": [
      "\u001b[33m\n",
      "Start epoch 67\n",
      "\u001b[0m"
     ]
    },
    {
     "name": "stderr",
     "output_type": "stream",
     "text": [
      "Train 67/15: 100%|██████████| 391/391 [00:12<00:00, 32.04it/s, loss=0.0141, top1=0.306]\n",
      "Val 67/15: 100%|██████████| 79/79 [00:01<00:00, 54.11it/s, loss=0.0137, top1=0.318]\n"
     ]
    },
    {
     "name": "stdout",
     "output_type": "stream",
     "text": [
      "\u001b[33m\n",
      "Start epoch 68\n",
      "\u001b[0m"
     ]
    },
    {
     "name": "stderr",
     "output_type": "stream",
     "text": [
      "Train 68/15: 100%|██████████| 391/391 [00:09<00:00, 39.17it/s, loss=0.014, top1=0.308] \n",
      "Val 68/15: 100%|██████████| 79/79 [00:01<00:00, 41.54it/s, loss=0.0137, top1=0.316]\n"
     ]
    },
    {
     "name": "stdout",
     "output_type": "stream",
     "text": [
      "\u001b[33m\n",
      "Start epoch 69\n",
      "\u001b[0m"
     ]
    },
    {
     "name": "stderr",
     "output_type": "stream",
     "text": [
      "Train 69/15: 100%|██████████| 391/391 [00:10<00:00, 38.93it/s, loss=0.014, top1=0.317] \n",
      "Val 69/15: 100%|██████████| 79/79 [00:01<00:00, 49.62it/s, loss=0.0135, top1=0.347]\n"
     ]
    },
    {
     "name": "stdout",
     "output_type": "stream",
     "text": [
      "\u001b[33m\n",
      "Start epoch 70\n",
      "\u001b[0m"
     ]
    },
    {
     "name": "stderr",
     "output_type": "stream",
     "text": [
      "Train 70/15: 100%|██████████| 391/391 [00:11<00:00, 33.34it/s, loss=0.0139, top1=0.321]\n",
      "Val 70/15: 100%|██████████| 79/79 [00:01<00:00, 65.84it/s, loss=0.0134, top1=0.353]\n"
     ]
    },
    {
     "name": "stdout",
     "output_type": "stream",
     "text": [
      "\u001b[33m\n",
      "Start epoch 71\n",
      "\u001b[0m"
     ]
    },
    {
     "name": "stderr",
     "output_type": "stream",
     "text": [
      "Train 71/15: 100%|██████████| 391/391 [00:09<00:00, 39.51it/s, loss=0.0138, top1=0.331]\n",
      "Val 71/15: 100%|██████████| 79/79 [00:02<00:00, 36.15it/s, loss=0.0133, top1=0.355]\n"
     ]
    },
    {
     "name": "stdout",
     "output_type": "stream",
     "text": [
      "\u001b[33m\n",
      "Start epoch 72\n",
      "\u001b[0m"
     ]
    },
    {
     "name": "stderr",
     "output_type": "stream",
     "text": [
      "Train 72/15: 100%|██████████| 391/391 [00:10<00:00, 37.69it/s, loss=0.0137, top1=0.337]\n",
      "Val 72/15: 100%|██████████| 79/79 [00:02<00:00, 38.77it/s, loss=0.0132, top1=0.362]\n"
     ]
    },
    {
     "name": "stdout",
     "output_type": "stream",
     "text": [
      "\u001b[33m\n",
      "Start epoch 73\n",
      "\u001b[0m"
     ]
    },
    {
     "name": "stderr",
     "output_type": "stream",
     "text": [
      "Train 73/15: 100%|██████████| 391/391 [00:10<00:00, 38.81it/s, loss=0.0137, top1=0.334]\n",
      "Val 73/15: 100%|██████████| 79/79 [00:01<00:00, 50.80it/s, loss=0.0131, top1=0.367]\n"
     ]
    },
    {
     "name": "stdout",
     "output_type": "stream",
     "text": [
      "\u001b[33m\n",
      "Start epoch 74\n",
      "\u001b[0m"
     ]
    },
    {
     "name": "stderr",
     "output_type": "stream",
     "text": [
      "Train 74/15: 100%|██████████| 391/391 [00:10<00:00, 35.55it/s, loss=0.0136, top1=0.344]\n",
      "Val 74/15: 100%|██████████| 79/79 [00:01<00:00, 51.12it/s, loss=0.0132, top1=0.365]\n"
     ]
    },
    {
     "name": "stdout",
     "output_type": "stream",
     "text": [
      "\u001b[92mModel Pruned using LayerMagWeight strategy\n",
      "\u001b[0m\u001b[92mModel Pruned using LayerMagWeight strategy\n",
      "\u001b[0m\u001b[33m\n",
      "Start epoch 75\n",
      "\u001b[0m"
     ]
    },
    {
     "name": "stderr",
     "output_type": "stream",
     "text": [
      "Train 75/15: 100%|██████████| 391/391 [00:10<00:00, 38.40it/s, loss=0.0181, top1=0.096] \n",
      "Val 75/15: 100%|██████████| 79/79 [00:01<00:00, 41.08it/s, loss=0.018, top1=0.0989]\n"
     ]
    },
    {
     "name": "stdout",
     "output_type": "stream",
     "text": [
      "\u001b[33m\n",
      "Start epoch 76\n",
      "\u001b[0m"
     ]
    },
    {
     "name": "stderr",
     "output_type": "stream",
     "text": [
      "Train 76/15: 100%|██████████| 391/391 [00:10<00:00, 38.38it/s, loss=0.018, top1=0.1]   \n",
      "Val 76/15: 100%|██████████| 79/79 [00:01<00:00, 52.46it/s, loss=0.018, top1=0.0989]\n"
     ]
    },
    {
     "name": "stdout",
     "output_type": "stream",
     "text": [
      "\u001b[33m\n",
      "Start epoch 77\n",
      "\u001b[0m"
     ]
    },
    {
     "name": "stderr",
     "output_type": "stream",
     "text": [
      "Train 77/15: 100%|██████████| 391/391 [00:11<00:00, 33.70it/s, loss=0.018, top1=0.1]  \n",
      "Val 77/15: 100%|██████████| 79/79 [00:01<00:00, 52.79it/s, loss=0.018, top1=0.0989]\n"
     ]
    },
    {
     "name": "stdout",
     "output_type": "stream",
     "text": [
      "\u001b[33m\n",
      "Start epoch 78\n",
      "\u001b[0m"
     ]
    },
    {
     "name": "stderr",
     "output_type": "stream",
     "text": [
      "Train 78/15: 100%|██████████| 391/391 [00:11<00:00, 35.15it/s, loss=0.018, top1=0.0978]\n",
      "Val 78/15: 100%|██████████| 79/79 [00:01<00:00, 53.24it/s, loss=0.018, top1=0.0989]\n"
     ]
    },
    {
     "name": "stdout",
     "output_type": "stream",
     "text": [
      "\u001b[33m\n",
      "Start epoch 79\n",
      "\u001b[0m"
     ]
    },
    {
     "name": "stderr",
     "output_type": "stream",
     "text": [
      "Train 79/15: 100%|██████████| 391/391 [00:09<00:00, 39.38it/s, loss=0.018, top1=0.0991]\n",
      "Val 79/15: 100%|██████████| 79/79 [00:01<00:00, 60.52it/s, loss=0.018, top1=0.0989]\n"
     ]
    },
    {
     "name": "stdout",
     "output_type": "stream",
     "text": [
      "\u001b[33m\n",
      "Start epoch 80\n",
      "\u001b[0m"
     ]
    },
    {
     "name": "stderr",
     "output_type": "stream",
     "text": [
      "Train 80/15: 100%|██████████| 391/391 [00:11<00:00, 35.36it/s, loss=0.018, top1=0.0994]\n",
      "Val 80/15: 100%|██████████| 79/79 [00:01<00:00, 42.77it/s, loss=0.018, top1=0.0989]\n"
     ]
    },
    {
     "name": "stdout",
     "output_type": "stream",
     "text": [
      "\u001b[33m\n",
      "Start epoch 81\n",
      "\u001b[0m"
     ]
    },
    {
     "name": "stderr",
     "output_type": "stream",
     "text": [
      "Train 81/15: 100%|██████████| 391/391 [00:09<00:00, 41.18it/s, loss=0.018, top1=0.0983]\n",
      "Val 81/15: 100%|██████████| 79/79 [00:01<00:00, 45.88it/s, loss=0.018, top1=0.0989]\n"
     ]
    },
    {
     "name": "stdout",
     "output_type": "stream",
     "text": [
      "\u001b[33m\n",
      "Start epoch 82\n",
      "\u001b[0m"
     ]
    },
    {
     "name": "stderr",
     "output_type": "stream",
     "text": [
      "Train 82/15: 100%|██████████| 391/391 [00:10<00:00, 35.95it/s, loss=0.018, top1=0.0995]\n",
      "Val 82/15: 100%|██████████| 79/79 [00:01<00:00, 54.56it/s, loss=0.018, top1=0.0989]\n"
     ]
    },
    {
     "name": "stdout",
     "output_type": "stream",
     "text": [
      "\u001b[33m\n",
      "Start epoch 83\n",
      "\u001b[0m"
     ]
    },
    {
     "name": "stderr",
     "output_type": "stream",
     "text": [
      "Train 83/15: 100%|██████████| 391/391 [00:10<00:00, 35.84it/s, loss=0.018, top1=0.0989]\n",
      "Val 83/15: 100%|██████████| 79/79 [00:01<00:00, 53.84it/s, loss=0.018, top1=0.0989]\n"
     ]
    },
    {
     "name": "stdout",
     "output_type": "stream",
     "text": [
      "\u001b[33m\n",
      "Start epoch 84\n",
      "\u001b[0m"
     ]
    },
    {
     "name": "stderr",
     "output_type": "stream",
     "text": [
      "Train 84/15: 100%|██████████| 391/391 [00:09<00:00, 40.62it/s, loss=0.018, top1=0.103]\n",
      "Val 84/15: 100%|██████████| 79/79 [00:01<00:00, 49.22it/s, loss=0.018, top1=0.0989]\n"
     ]
    },
    {
     "name": "stdout",
     "output_type": "stream",
     "text": [
      "\u001b[33m\n",
      "Start epoch 85\n",
      "\u001b[0m"
     ]
    },
    {
     "name": "stderr",
     "output_type": "stream",
     "text": [
      "Train 85/15: 100%|██████████| 391/391 [00:10<00:00, 36.84it/s, loss=0.018, top1=0.0979]\n",
      "Val 85/15: 100%|██████████| 79/79 [00:01<00:00, 55.17it/s, loss=0.018, top1=0.0989]\n"
     ]
    },
    {
     "name": "stdout",
     "output_type": "stream",
     "text": [
      "\u001b[33m\n",
      "Start epoch 86\n",
      "\u001b[0m"
     ]
    },
    {
     "name": "stderr",
     "output_type": "stream",
     "text": [
      "Train 86/15: 100%|██████████| 391/391 [00:08<00:00, 44.83it/s, loss=0.018, top1=0.0981]\n",
      "Val 86/15: 100%|██████████| 79/79 [00:01<00:00, 47.27it/s, loss=0.018, top1=0.0989]\n"
     ]
    },
    {
     "name": "stdout",
     "output_type": "stream",
     "text": [
      "\u001b[33m\n",
      "Start epoch 87\n",
      "\u001b[0m"
     ]
    },
    {
     "name": "stderr",
     "output_type": "stream",
     "text": [
      "Train 87/15: 100%|██████████| 391/391 [00:11<00:00, 34.45it/s, loss=0.018, top1=0.1]   \n",
      "Val 87/15: 100%|██████████| 79/79 [00:01<00:00, 51.12it/s, loss=0.018, top1=0.0989]\n"
     ]
    },
    {
     "name": "stdout",
     "output_type": "stream",
     "text": [
      "\u001b[33m\n",
      "Start epoch 88\n",
      "\u001b[0m"
     ]
    },
    {
     "name": "stderr",
     "output_type": "stream",
     "text": [
      "Train 88/15: 100%|██████████| 391/391 [00:09<00:00, 41.44it/s, loss=0.018, top1=0.0989]\n",
      "Val 88/15: 100%|██████████| 79/79 [00:01<00:00, 47.39it/s, loss=0.018, top1=0.0989]\n"
     ]
    },
    {
     "name": "stdout",
     "output_type": "stream",
     "text": [
      "\u001b[33m\n",
      "Start epoch 89\n",
      "\u001b[0m"
     ]
    },
    {
     "name": "stderr",
     "output_type": "stream",
     "text": [
      "Train 89/15: 100%|██████████| 391/391 [00:09<00:00, 43.24it/s, loss=0.018, top1=0.1]   \n",
      "Val 89/15: 100%|██████████| 79/79 [00:01<00:00, 53.39it/s, loss=0.018, top1=0.0989]\n"
     ]
    },
    {
     "name": "stdout",
     "output_type": "stream",
     "text": [
      "\u001b[92mModel Pruned using LayerMagWeight strategy\n",
      "\u001b[0m\u001b[92mModel Pruned using LayerMagWeight strategy\n",
      "\u001b[0m\u001b[33m\n",
      "Start epoch 90\n",
      "\u001b[0m"
     ]
    },
    {
     "name": "stderr",
     "output_type": "stream",
     "text": [
      "Train 90/15: 100%|██████████| 391/391 [00:09<00:00, 42.12it/s, loss=0.0181, top1=0.0971]\n",
      "Val 90/15: 100%|██████████| 79/79 [00:01<00:00, 61.74it/s, loss=0.018, top1=0.0989]\n"
     ]
    },
    {
     "name": "stdout",
     "output_type": "stream",
     "text": [
      "\u001b[33m\n",
      "Start epoch 91\n",
      "\u001b[0m"
     ]
    },
    {
     "name": "stderr",
     "output_type": "stream",
     "text": [
      "Train 91/15: 100%|██████████| 391/391 [00:10<00:00, 38.48it/s, loss=0.018, top1=0.1]   \n",
      "Val 91/15: 100%|██████████| 79/79 [00:02<00:00, 32.16it/s, loss=0.018, top1=0.0989]\n"
     ]
    },
    {
     "name": "stdout",
     "output_type": "stream",
     "text": [
      "\u001b[33m\n",
      "Start epoch 92\n",
      "\u001b[0m"
     ]
    },
    {
     "name": "stderr",
     "output_type": "stream",
     "text": [
      "Train 92/15: 100%|██████████| 391/391 [00:09<00:00, 39.33it/s, loss=0.018, top1=0.0989]\n",
      "Val 92/15: 100%|██████████| 79/79 [00:01<00:00, 58.70it/s, loss=0.018, top1=0.0989]\n"
     ]
    },
    {
     "name": "stdout",
     "output_type": "stream",
     "text": [
      "\u001b[33m\n",
      "Start epoch 93\n",
      "\u001b[0m"
     ]
    },
    {
     "name": "stderr",
     "output_type": "stream",
     "text": [
      "Train 93/15: 100%|██████████| 391/391 [00:10<00:00, 37.73it/s, loss=0.018, top1=0.1]   \n",
      "Val 93/15: 100%|██████████| 79/79 [00:01<00:00, 46.65it/s, loss=0.018, top1=0.0989]\n"
     ]
    },
    {
     "name": "stdout",
     "output_type": "stream",
     "text": [
      "\u001b[33m\n",
      "Start epoch 94\n",
      "\u001b[0m"
     ]
    },
    {
     "name": "stderr",
     "output_type": "stream",
     "text": [
      "Train 94/15: 100%|██████████| 391/391 [00:10<00:00, 38.71it/s, loss=0.018, top1=0.1]   \n",
      "Val 94/15: 100%|██████████| 79/79 [00:01<00:00, 75.58it/s, loss=0.018, top1=0.0989]\n"
     ]
    },
    {
     "name": "stdout",
     "output_type": "stream",
     "text": [
      "\u001b[33m\n",
      "Start epoch 95\n",
      "\u001b[0m"
     ]
    },
    {
     "name": "stderr",
     "output_type": "stream",
     "text": [
      "Train 95/15: 100%|██████████| 391/391 [00:12<00:00, 32.50it/s, loss=0.018, top1=0.101] \n",
      "Val 95/15: 100%|██████████| 79/79 [00:02<00:00, 33.90it/s, loss=0.018, top1=0.0989]\n"
     ]
    },
    {
     "name": "stdout",
     "output_type": "stream",
     "text": [
      "\u001b[33m\n",
      "Start epoch 96\n",
      "\u001b[0m"
     ]
    },
    {
     "name": "stderr",
     "output_type": "stream",
     "text": [
      "Train 96/15: 100%|██████████| 391/391 [00:09<00:00, 42.51it/s, loss=0.018, top1=0.1]   \n",
      "Val 96/15: 100%|██████████| 79/79 [00:01<00:00, 45.23it/s, loss=0.018, top1=0.0989]\n"
     ]
    },
    {
     "name": "stdout",
     "output_type": "stream",
     "text": [
      "\u001b[33m\n",
      "Start epoch 97\n",
      "\u001b[0m"
     ]
    },
    {
     "name": "stderr",
     "output_type": "stream",
     "text": [
      "Train 97/15: 100%|██████████| 391/391 [00:09<00:00, 40.98it/s, loss=0.018, top1=0.099] \n",
      "Val 97/15: 100%|██████████| 79/79 [00:01<00:00, 64.67it/s, loss=0.018, top1=0.0989]\n"
     ]
    },
    {
     "name": "stdout",
     "output_type": "stream",
     "text": [
      "\u001b[33m\n",
      "Start epoch 98\n",
      "\u001b[0m"
     ]
    },
    {
     "name": "stderr",
     "output_type": "stream",
     "text": [
      "Train 98/15: 100%|██████████| 391/391 [00:09<00:00, 40.24it/s, loss=0.018, top1=0.1]  \n",
      "Val 98/15: 100%|██████████| 79/79 [00:01<00:00, 74.58it/s, loss=0.018, top1=0.0989]\n"
     ]
    },
    {
     "name": "stdout",
     "output_type": "stream",
     "text": [
      "\u001b[33m\n",
      "Start epoch 99\n",
      "\u001b[0m"
     ]
    },
    {
     "name": "stderr",
     "output_type": "stream",
     "text": [
      "Train 99/15: 100%|██████████| 391/391 [00:11<00:00, 32.84it/s, loss=0.018, top1=0.0997]\n",
      "Val 99/15: 100%|██████████| 79/79 [00:01<00:00, 39.56it/s, loss=0.018, top1=0.0989]\n"
     ]
    },
    {
     "name": "stdout",
     "output_type": "stream",
     "text": [
      "\u001b[33m\n",
      "Start epoch 100\n",
      "\u001b[0m"
     ]
    },
    {
     "name": "stderr",
     "output_type": "stream",
     "text": [
      "Train 100/15: 100%|██████████| 391/391 [00:09<00:00, 42.57it/s, loss=0.018, top1=0.101] \n",
      "Val 100/15: 100%|██████████| 79/79 [00:01<00:00, 54.19it/s, loss=0.018, top1=0.0989]\n"
     ]
    },
    {
     "name": "stdout",
     "output_type": "stream",
     "text": [
      "\u001b[33m\n",
      "Start epoch 101\n",
      "\u001b[0m"
     ]
    },
    {
     "name": "stderr",
     "output_type": "stream",
     "text": [
      "Train 101/15: 100%|██████████| 391/391 [00:09<00:00, 40.99it/s, loss=0.018, top1=0.0986]\n",
      "Val 101/15: 100%|██████████| 79/79 [00:01<00:00, 42.50it/s, loss=0.018, top1=0.0989]\n"
     ]
    },
    {
     "name": "stdout",
     "output_type": "stream",
     "text": [
      "\u001b[33m\n",
      "Start epoch 102\n",
      "\u001b[0m"
     ]
    },
    {
     "name": "stderr",
     "output_type": "stream",
     "text": [
      "Train 102/15: 100%|██████████| 391/391 [00:10<00:00, 37.43it/s, loss=0.018, top1=0.0985]\n",
      "Val 102/15: 100%|██████████| 79/79 [00:01<00:00, 51.16it/s, loss=0.018, top1=0.0989]\n"
     ]
    },
    {
     "name": "stdout",
     "output_type": "stream",
     "text": [
      "\u001b[33m\n",
      "Start epoch 103\n",
      "\u001b[0m"
     ]
    },
    {
     "name": "stderr",
     "output_type": "stream",
     "text": [
      "Train 103/15: 100%|██████████| 391/391 [00:11<00:00, 35.27it/s, loss=0.018, top1=0.0975]\n",
      "Val 103/15: 100%|██████████| 79/79 [00:01<00:00, 56.45it/s, loss=0.018, top1=0.0989]\n"
     ]
    },
    {
     "name": "stdout",
     "output_type": "stream",
     "text": [
      "\u001b[33m\n",
      "Start epoch 104\n",
      "\u001b[0m"
     ]
    },
    {
     "name": "stderr",
     "output_type": "stream",
     "text": [
      "Train 104/15: 100%|██████████| 391/391 [00:10<00:00, 38.95it/s, loss=0.018, top1=0.0977]\n",
      "Val 104/15: 100%|██████████| 79/79 [00:01<00:00, 63.31it/s, loss=0.018, top1=0.0989]\n"
     ]
    },
    {
     "name": "stdout",
     "output_type": "stream",
     "text": [
      "\u001b[92mModel Pruned using LayerMagWeight strategy\n",
      "\u001b[0m\u001b[92mGPU NOT AVAILABLE, USING CPU!\n",
      "\u001b[0m\u001b[95mLogging results to results/20220918-231943-41PJ-LeNet_C10\n",
      "\u001b[0m"
     ]
    },
    {
     "name": "stderr",
     "output_type": "stream",
     "text": [
      "Val -1/15: 100%|██████████| 79/79 [00:01<00:00, 55.55it/s, loss=0.018, top1=0.0987]\n"
     ]
    },
    {
     "name": "stdout",
     "output_type": "stream",
     "text": [
      "\u001b[33m\n",
      "Start epoch 0\n",
      "\u001b[0m"
     ]
    },
    {
     "name": "stderr",
     "output_type": "stream",
     "text": [
      "Train 0/15: 100%|██████████| 391/391 [00:09<00:00, 41.92it/s, loss=0.0154, top1=0.266]\n",
      "Val 0/15: 100%|██████████| 79/79 [00:01<00:00, 64.60it/s, loss=0.0129, top1=0.39] \n"
     ]
    },
    {
     "name": "stdout",
     "output_type": "stream",
     "text": [
      "\u001b[33m\n",
      "Start epoch 1\n",
      "\u001b[0m"
     ]
    },
    {
     "name": "stderr",
     "output_type": "stream",
     "text": [
      "Train 1/15: 100%|██████████| 391/391 [00:09<00:00, 40.20it/s, loss=0.0124, top1=0.419]\n",
      "Val 1/15: 100%|██████████| 79/79 [00:01<00:00, 54.04it/s, loss=0.011, top1=0.496] \n"
     ]
    },
    {
     "name": "stdout",
     "output_type": "stream",
     "text": [
      "\u001b[33m\n",
      "Start epoch 2\n",
      "\u001b[0m"
     ]
    },
    {
     "name": "stderr",
     "output_type": "stream",
     "text": [
      "Train 2/15: 100%|██████████| 391/391 [00:10<00:00, 36.72it/s, loss=0.0112, top1=0.478]\n",
      "Val 2/15: 100%|██████████| 79/79 [00:01<00:00, 55.67it/s, loss=0.00997, top1=0.543]\n"
     ]
    },
    {
     "name": "stdout",
     "output_type": "stream",
     "text": [
      "\u001b[33m\n",
      "Start epoch 3\n",
      "\u001b[0m"
     ]
    },
    {
     "name": "stderr",
     "output_type": "stream",
     "text": [
      "Train 3/15: 100%|██████████| 391/391 [00:10<00:00, 37.11it/s, loss=0.0105, top1=0.513]\n",
      "Val 3/15: 100%|██████████| 79/79 [00:01<00:00, 76.71it/s, loss=0.00939, top1=0.57] \n"
     ]
    },
    {
     "name": "stdout",
     "output_type": "stream",
     "text": [
      "\u001b[33m\n",
      "Start epoch 4\n",
      "\u001b[0m"
     ]
    },
    {
     "name": "stderr",
     "output_type": "stream",
     "text": [
      "Train 4/15: 100%|██████████| 391/391 [00:11<00:00, 35.11it/s, loss=0.0101, top1=0.538]\n",
      "Val 4/15: 100%|██████████| 79/79 [00:01<00:00, 59.22it/s, loss=0.00937, top1=0.571]\n"
     ]
    },
    {
     "name": "stdout",
     "output_type": "stream",
     "text": [
      "\u001b[33m\n",
      "Start epoch 5\n",
      "\u001b[0m"
     ]
    },
    {
     "name": "stderr",
     "output_type": "stream",
     "text": [
      "Train 5/15: 100%|██████████| 391/391 [00:09<00:00, 42.01it/s, loss=0.00984, top1=0.551]\n",
      "Val 5/15: 100%|██████████| 79/79 [00:01<00:00, 58.90it/s, loss=0.00889, top1=0.591]\n"
     ]
    },
    {
     "name": "stdout",
     "output_type": "stream",
     "text": [
      "\u001b[33m\n",
      "Start epoch 6\n",
      "\u001b[0m"
     ]
    },
    {
     "name": "stderr",
     "output_type": "stream",
     "text": [
      "Train 6/15: 100%|██████████| 391/391 [00:10<00:00, 38.94it/s, loss=0.0095, top1=0.566] \n",
      "Val 6/15: 100%|██████████| 79/79 [00:01<00:00, 49.77it/s, loss=0.00877, top1=0.596]\n"
     ]
    },
    {
     "name": "stdout",
     "output_type": "stream",
     "text": [
      "\u001b[33m\n",
      "Start epoch 7\n",
      "\u001b[0m"
     ]
    },
    {
     "name": "stderr",
     "output_type": "stream",
     "text": [
      "Train 7/15: 100%|██████████| 391/391 [00:09<00:00, 39.48it/s, loss=0.00933, top1=0.574]\n",
      "Val 7/15: 100%|██████████| 79/79 [00:01<00:00, 43.89it/s, loss=0.00886, top1=0.594]\n"
     ]
    },
    {
     "name": "stdout",
     "output_type": "stream",
     "text": [
      "\u001b[33m\n",
      "Start epoch 8\n",
      "\u001b[0m"
     ]
    },
    {
     "name": "stderr",
     "output_type": "stream",
     "text": [
      "Train 8/15: 100%|██████████| 391/391 [00:08<00:00, 44.96it/s, loss=0.00915, top1=0.584]\n",
      "Val 8/15: 100%|██████████| 79/79 [00:01<00:00, 46.99it/s, loss=0.0087, top1=0.602] \n"
     ]
    },
    {
     "name": "stdout",
     "output_type": "stream",
     "text": [
      "\u001b[33m\n",
      "Start epoch 9\n",
      "\u001b[0m"
     ]
    },
    {
     "name": "stderr",
     "output_type": "stream",
     "text": [
      "Train 9/15: 100%|██████████| 391/391 [00:11<00:00, 34.39it/s, loss=0.00896, top1=0.592]\n",
      "Val 9/15: 100%|██████████| 79/79 [00:01<00:00, 44.94it/s, loss=0.00844, top1=0.61] \n"
     ]
    },
    {
     "name": "stdout",
     "output_type": "stream",
     "text": [
      "\u001b[33m\n",
      "Start epoch 10\n",
      "\u001b[0m"
     ]
    },
    {
     "name": "stderr",
     "output_type": "stream",
     "text": [
      "Train 10/15: 100%|██████████| 391/391 [00:11<00:00, 34.15it/s, loss=0.00879, top1=0.599]\n",
      "Val 10/15: 100%|██████████| 79/79 [00:01<00:00, 49.35it/s, loss=0.00843, top1=0.611]\n"
     ]
    },
    {
     "name": "stdout",
     "output_type": "stream",
     "text": [
      "\u001b[33m\n",
      "Start epoch 11\n",
      "\u001b[0m"
     ]
    },
    {
     "name": "stderr",
     "output_type": "stream",
     "text": [
      "Train 11/15: 100%|██████████| 391/391 [00:10<00:00, 36.54it/s, loss=0.00862, top1=0.608]\n",
      "Val 11/15: 100%|██████████| 79/79 [00:00<00:00, 81.13it/s, loss=0.00798, top1=0.636] \n"
     ]
    },
    {
     "name": "stdout",
     "output_type": "stream",
     "text": [
      "\u001b[33m\n",
      "Start epoch 12\n",
      "\u001b[0m"
     ]
    },
    {
     "name": "stderr",
     "output_type": "stream",
     "text": [
      "Train 12/15: 100%|██████████| 391/391 [00:09<00:00, 43.21it/s, loss=0.00854, top1=0.61] \n",
      "Val 12/15: 100%|██████████| 79/79 [00:01<00:00, 54.38it/s, loss=0.00787, top1=0.637]\n"
     ]
    },
    {
     "name": "stdout",
     "output_type": "stream",
     "text": [
      "\u001b[33m\n",
      "Start epoch 13\n",
      "\u001b[0m"
     ]
    },
    {
     "name": "stderr",
     "output_type": "stream",
     "text": [
      "Train 13/15: 100%|██████████| 391/391 [00:10<00:00, 38.05it/s, loss=0.00846, top1=0.614]\n",
      "Val 13/15: 100%|██████████| 79/79 [00:01<00:00, 61.27it/s, loss=0.00796, top1=0.634]\n"
     ]
    },
    {
     "name": "stdout",
     "output_type": "stream",
     "text": [
      "\u001b[33m\n",
      "Start epoch 14\n",
      "\u001b[0m"
     ]
    },
    {
     "name": "stderr",
     "output_type": "stream",
     "text": [
      "Train 14/15: 100%|██████████| 391/391 [00:10<00:00, 38.41it/s, loss=0.0083, top1=0.625] \n",
      "Val 14/15: 100%|██████████| 79/79 [00:01<00:00, 43.69it/s, loss=0.00782, top1=0.64] \n"
     ]
    },
    {
     "name": "stdout",
     "output_type": "stream",
     "text": [
      "\u001b[92mModel Pruned using LayerMagWeight strategy\n",
      "\u001b[0m\u001b[33m\n",
      "Start epoch 15\n",
      "\u001b[0m"
     ]
    },
    {
     "name": "stderr",
     "output_type": "stream",
     "text": [
      "Train 15/15: 100%|██████████| 391/391 [00:12<00:00, 31.30it/s, loss=0.00819, top1=0.627]\n",
      "Val 15/15: 100%|██████████| 79/79 [00:01<00:00, 56.49it/s, loss=0.00768, top1=0.648]\n"
     ]
    },
    {
     "name": "stdout",
     "output_type": "stream",
     "text": [
      "\u001b[33m\n",
      "Start epoch 16\n",
      "\u001b[0m"
     ]
    },
    {
     "name": "stderr",
     "output_type": "stream",
     "text": [
      "Train 16/15: 100%|██████████| 391/391 [00:09<00:00, 41.49it/s, loss=0.00814, top1=0.632]\n",
      "Val 16/15: 100%|██████████| 79/79 [00:01<00:00, 58.36it/s, loss=0.00747, top1=0.655]\n"
     ]
    },
    {
     "name": "stdout",
     "output_type": "stream",
     "text": [
      "\u001b[33m\n",
      "Start epoch 17\n",
      "\u001b[0m"
     ]
    },
    {
     "name": "stderr",
     "output_type": "stream",
     "text": [
      "Train 17/15: 100%|██████████| 391/391 [00:11<00:00, 34.36it/s, loss=0.00805, top1=0.635]\n",
      "Val 17/15: 100%|██████████| 79/79 [00:01<00:00, 41.95it/s, loss=0.00761, top1=0.648]\n"
     ]
    },
    {
     "name": "stdout",
     "output_type": "stream",
     "text": [
      "\u001b[33m\n",
      "Start epoch 18\n",
      "\u001b[0m"
     ]
    },
    {
     "name": "stderr",
     "output_type": "stream",
     "text": [
      "Train 18/15: 100%|██████████| 391/391 [00:09<00:00, 41.25it/s, loss=0.00796, top1=0.64] \n",
      "Val 18/15: 100%|██████████| 79/79 [00:01<00:00, 50.78it/s, loss=0.00756, top1=0.653]\n"
     ]
    },
    {
     "name": "stdout",
     "output_type": "stream",
     "text": [
      "\u001b[33m\n",
      "Start epoch 19\n",
      "\u001b[0m"
     ]
    },
    {
     "name": "stderr",
     "output_type": "stream",
     "text": [
      "Train 19/15: 100%|██████████| 391/391 [00:10<00:00, 38.55it/s, loss=0.00791, top1=0.641]\n",
      "Val 19/15: 100%|██████████| 79/79 [00:01<00:00, 46.38it/s, loss=0.00751, top1=0.657]\n"
     ]
    },
    {
     "name": "stdout",
     "output_type": "stream",
     "text": [
      "\u001b[33m\n",
      "Start epoch 20\n",
      "\u001b[0m"
     ]
    },
    {
     "name": "stderr",
     "output_type": "stream",
     "text": [
      "Train 20/15: 100%|██████████| 391/391 [00:09<00:00, 40.79it/s, loss=0.0078, top1=0.648] \n",
      "Val 20/15: 100%|██████████| 79/79 [00:02<00:00, 35.96it/s, loss=0.00747, top1=0.652]\n"
     ]
    },
    {
     "name": "stdout",
     "output_type": "stream",
     "text": [
      "\u001b[33m\n",
      "Start epoch 21\n",
      "\u001b[0m"
     ]
    },
    {
     "name": "stderr",
     "output_type": "stream",
     "text": [
      "Train 21/15: 100%|██████████| 391/391 [00:11<00:00, 35.34it/s, loss=0.00774, top1=0.651]\n",
      "Val 21/15: 100%|██████████| 79/79 [00:01<00:00, 43.75it/s, loss=0.0074, top1=0.662] \n"
     ]
    },
    {
     "name": "stdout",
     "output_type": "stream",
     "text": [
      "\u001b[33m\n",
      "Start epoch 22\n",
      "\u001b[0m"
     ]
    },
    {
     "name": "stderr",
     "output_type": "stream",
     "text": [
      "Train 22/15: 100%|██████████| 391/391 [00:10<00:00, 35.55it/s, loss=0.00774, top1=0.652]\n",
      "Val 22/15: 100%|██████████| 79/79 [00:01<00:00, 48.78it/s, loss=0.00741, top1=0.654]\n"
     ]
    },
    {
     "name": "stdout",
     "output_type": "stream",
     "text": [
      "\u001b[33m\n",
      "Start epoch 23\n",
      "\u001b[0m"
     ]
    },
    {
     "name": "stderr",
     "output_type": "stream",
     "text": [
      "Train 23/15: 100%|██████████| 391/391 [00:10<00:00, 37.60it/s, loss=0.00762, top1=0.656]\n",
      "Val 23/15: 100%|██████████| 79/79 [00:01<00:00, 48.26it/s, loss=0.00719, top1=0.671]\n"
     ]
    },
    {
     "name": "stdout",
     "output_type": "stream",
     "text": [
      "\u001b[33m\n",
      "Start epoch 24\n",
      "\u001b[0m"
     ]
    },
    {
     "name": "stderr",
     "output_type": "stream",
     "text": [
      "Train 24/15: 100%|██████████| 391/391 [00:09<00:00, 40.26it/s, loss=0.00759, top1=0.658]\n",
      "Val 24/15: 100%|██████████| 79/79 [00:01<00:00, 50.35it/s, loss=0.00745, top1=0.662]\n"
     ]
    },
    {
     "name": "stdout",
     "output_type": "stream",
     "text": [
      "\u001b[33m\n",
      "Start epoch 25\n",
      "\u001b[0m"
     ]
    },
    {
     "name": "stderr",
     "output_type": "stream",
     "text": [
      "Train 25/15: 100%|██████████| 391/391 [00:10<00:00, 37.21it/s, loss=0.00752, top1=0.66] \n",
      "Val 25/15: 100%|██████████| 79/79 [00:01<00:00, 61.41it/s, loss=0.00721, top1=0.67] \n"
     ]
    },
    {
     "name": "stdout",
     "output_type": "stream",
     "text": [
      "\u001b[33m\n",
      "Start epoch 26\n",
      "\u001b[0m"
     ]
    },
    {
     "name": "stderr",
     "output_type": "stream",
     "text": [
      "Train 26/15: 100%|██████████| 391/391 [00:09<00:00, 41.25it/s, loss=0.00748, top1=0.665]\n",
      "Val 26/15: 100%|██████████| 79/79 [00:01<00:00, 56.31it/s, loss=0.00715, top1=0.674]\n"
     ]
    },
    {
     "name": "stdout",
     "output_type": "stream",
     "text": [
      "\u001b[33m\n",
      "Start epoch 27\n",
      "\u001b[0m"
     ]
    },
    {
     "name": "stderr",
     "output_type": "stream",
     "text": [
      "Train 27/15: 100%|██████████| 391/391 [00:10<00:00, 38.94it/s, loss=0.00744, top1=0.663]\n",
      "Val 27/15: 100%|██████████| 79/79 [00:02<00:00, 38.09it/s, loss=0.00704, top1=0.671]\n"
     ]
    },
    {
     "name": "stdout",
     "output_type": "stream",
     "text": [
      "\u001b[33m\n",
      "Start epoch 28\n",
      "\u001b[0m"
     ]
    },
    {
     "name": "stderr",
     "output_type": "stream",
     "text": [
      "Train 28/15: 100%|██████████| 391/391 [00:09<00:00, 40.44it/s, loss=0.00741, top1=0.667]\n",
      "Val 28/15: 100%|██████████| 79/79 [00:01<00:00, 49.30it/s, loss=0.00725, top1=0.668]\n"
     ]
    },
    {
     "name": "stdout",
     "output_type": "stream",
     "text": [
      "\u001b[33m\n",
      "Start epoch 29\n",
      "\u001b[0m"
     ]
    },
    {
     "name": "stderr",
     "output_type": "stream",
     "text": [
      "Train 29/15: 100%|██████████| 391/391 [00:09<00:00, 40.38it/s, loss=0.00737, top1=0.669]\n",
      "Val 29/15: 100%|██████████| 79/79 [00:01<00:00, 43.85it/s, loss=0.00714, top1=0.672]\n"
     ]
    },
    {
     "name": "stdout",
     "output_type": "stream",
     "text": [
      "\u001b[92mModel Pruned using LayerMagWeight strategy\n",
      "\u001b[0m\u001b[92mModel Pruned using LayerMagWeight strategy\n",
      "\u001b[0m\u001b[33m\n",
      "Start epoch 30\n",
      "\u001b[0m"
     ]
    },
    {
     "name": "stderr",
     "output_type": "stream",
     "text": [
      "Train 30/15: 100%|██████████| 391/391 [00:10<00:00, 37.46it/s, loss=0.00947, top1=0.566]\n",
      "Val 30/15: 100%|██████████| 79/79 [00:01<00:00, 41.64it/s, loss=0.00843, top1=0.617]\n"
     ]
    },
    {
     "name": "stdout",
     "output_type": "stream",
     "text": [
      "\u001b[33m\n",
      "Start epoch 31\n",
      "\u001b[0m"
     ]
    },
    {
     "name": "stderr",
     "output_type": "stream",
     "text": [
      "Train 31/15: 100%|██████████| 391/391 [00:09<00:00, 40.58it/s, loss=0.00892, top1=0.593]\n",
      "Val 31/15: 100%|██████████| 79/79 [00:01<00:00, 65.82it/s, loss=0.00818, top1=0.625]\n"
     ]
    },
    {
     "name": "stdout",
     "output_type": "stream",
     "text": [
      "\u001b[33m\n",
      "Start epoch 32\n",
      "\u001b[0m"
     ]
    },
    {
     "name": "stderr",
     "output_type": "stream",
     "text": [
      "Train 32/15: 100%|██████████| 391/391 [00:09<00:00, 40.69it/s, loss=0.00872, top1=0.602]\n",
      "Val 32/15: 100%|██████████| 79/79 [00:01<00:00, 51.88it/s, loss=0.00804, top1=0.632]\n"
     ]
    },
    {
     "name": "stdout",
     "output_type": "stream",
     "text": [
      "\u001b[33m\n",
      "Start epoch 33\n",
      "\u001b[0m"
     ]
    },
    {
     "name": "stderr",
     "output_type": "stream",
     "text": [
      "Train 33/15: 100%|██████████| 391/391 [00:10<00:00, 38.97it/s, loss=0.00863, top1=0.609]\n",
      "Val 33/15: 100%|██████████| 79/79 [00:01<00:00, 54.99it/s, loss=0.00807, top1=0.631]\n"
     ]
    },
    {
     "name": "stdout",
     "output_type": "stream",
     "text": [
      "\u001b[33m\n",
      "Start epoch 34\n",
      "\u001b[0m"
     ]
    },
    {
     "name": "stderr",
     "output_type": "stream",
     "text": [
      "Train 34/15: 100%|██████████| 391/391 [00:10<00:00, 38.26it/s, loss=0.00854, top1=0.612]\n",
      "Val 34/15: 100%|██████████| 79/79 [00:01<00:00, 49.75it/s, loss=0.00826, top1=0.626]\n"
     ]
    },
    {
     "name": "stdout",
     "output_type": "stream",
     "text": [
      "\u001b[33m\n",
      "Start epoch 35\n",
      "\u001b[0m"
     ]
    },
    {
     "name": "stderr",
     "output_type": "stream",
     "text": [
      "Train 35/15: 100%|██████████| 391/391 [00:12<00:00, 32.57it/s, loss=0.00849, top1=0.615]\n",
      "Val 35/15: 100%|██████████| 79/79 [00:01<00:00, 54.07it/s, loss=0.00792, top1=0.639]\n"
     ]
    },
    {
     "name": "stdout",
     "output_type": "stream",
     "text": [
      "\u001b[33m\n",
      "Start epoch 36\n",
      "\u001b[0m"
     ]
    },
    {
     "name": "stderr",
     "output_type": "stream",
     "text": [
      "Train 36/15: 100%|██████████| 391/391 [00:08<00:00, 44.04it/s, loss=0.00846, top1=0.614]\n",
      "Val 36/15: 100%|██████████| 79/79 [00:01<00:00, 48.58it/s, loss=0.00788, top1=0.642]\n"
     ]
    },
    {
     "name": "stdout",
     "output_type": "stream",
     "text": [
      "\u001b[33m\n",
      "Start epoch 37\n",
      "\u001b[0m"
     ]
    },
    {
     "name": "stderr",
     "output_type": "stream",
     "text": [
      "Train 37/15: 100%|██████████| 391/391 [00:11<00:00, 34.54it/s, loss=0.00838, top1=0.618]\n",
      "Val 37/15: 100%|██████████| 79/79 [00:01<00:00, 44.77it/s, loss=0.00815, top1=0.626]\n"
     ]
    },
    {
     "name": "stdout",
     "output_type": "stream",
     "text": [
      "\u001b[33m\n",
      "Start epoch 38\n",
      "\u001b[0m"
     ]
    },
    {
     "name": "stderr",
     "output_type": "stream",
     "text": [
      "Train 38/15: 100%|██████████| 391/391 [00:10<00:00, 35.65it/s, loss=0.00836, top1=0.618]\n",
      "Val 38/15: 100%|██████████| 79/79 [00:01<00:00, 61.00it/s, loss=0.0078, top1=0.64]  \n"
     ]
    },
    {
     "name": "stdout",
     "output_type": "stream",
     "text": [
      "\u001b[33m\n",
      "Start epoch 39\n",
      "\u001b[0m"
     ]
    },
    {
     "name": "stderr",
     "output_type": "stream",
     "text": [
      "Train 39/15: 100%|██████████| 391/391 [00:10<00:00, 36.25it/s, loss=0.00835, top1=0.621]\n",
      "Val 39/15: 100%|██████████| 79/79 [00:01<00:00, 46.16it/s, loss=0.00767, top1=0.646]\n"
     ]
    },
    {
     "name": "stdout",
     "output_type": "stream",
     "text": [
      "\u001b[33m\n",
      "Start epoch 40\n",
      "\u001b[0m"
     ]
    },
    {
     "name": "stderr",
     "output_type": "stream",
     "text": [
      "Train 40/15: 100%|██████████| 391/391 [00:11<00:00, 34.93it/s, loss=0.00828, top1=0.625]\n",
      "Val 40/15: 100%|██████████| 79/79 [00:02<00:00, 39.27it/s, loss=0.00802, top1=0.635]\n"
     ]
    },
    {
     "name": "stdout",
     "output_type": "stream",
     "text": [
      "\u001b[33m\n",
      "Start epoch 41\n",
      "\u001b[0m"
     ]
    },
    {
     "name": "stderr",
     "output_type": "stream",
     "text": [
      "Train 41/15: 100%|██████████| 391/391 [00:10<00:00, 37.15it/s, loss=0.00825, top1=0.627]\n",
      "Val 41/15: 100%|██████████| 79/79 [00:01<00:00, 52.25it/s, loss=0.00768, top1=0.652]\n"
     ]
    },
    {
     "name": "stdout",
     "output_type": "stream",
     "text": [
      "\u001b[33m\n",
      "Start epoch 42\n",
      "\u001b[0m"
     ]
    },
    {
     "name": "stderr",
     "output_type": "stream",
     "text": [
      "Train 42/15: 100%|██████████| 391/391 [00:08<00:00, 48.13it/s, loss=0.00827, top1=0.627]\n",
      "Val 42/15: 100%|██████████| 79/79 [00:01<00:00, 46.97it/s, loss=0.00763, top1=0.655]\n"
     ]
    },
    {
     "name": "stdout",
     "output_type": "stream",
     "text": [
      "\u001b[33m\n",
      "Start epoch 43\n",
      "\u001b[0m"
     ]
    },
    {
     "name": "stderr",
     "output_type": "stream",
     "text": [
      "Train 43/15: 100%|██████████| 391/391 [00:09<00:00, 40.35it/s, loss=0.00822, top1=0.628]\n",
      "Val 43/15: 100%|██████████| 79/79 [00:01<00:00, 49.22it/s, loss=0.00776, top1=0.642]\n"
     ]
    },
    {
     "name": "stdout",
     "output_type": "stream",
     "text": [
      "\u001b[33m\n",
      "Start epoch 44\n",
      "\u001b[0m"
     ]
    },
    {
     "name": "stderr",
     "output_type": "stream",
     "text": [
      "Train 44/15: 100%|██████████| 391/391 [00:11<00:00, 33.08it/s, loss=0.00818, top1=0.628]\n",
      "Val 44/15: 100%|██████████| 79/79 [00:02<00:00, 39.46it/s, loss=0.0077, top1=0.648] \n"
     ]
    },
    {
     "name": "stdout",
     "output_type": "stream",
     "text": [
      "\u001b[92mModel Pruned using LayerMagWeight strategy\n",
      "\u001b[0m\u001b[92mModel Pruned using LayerMagWeight strategy\n",
      "\u001b[0m\u001b[33m\n",
      "Start epoch 45\n",
      "\u001b[0m"
     ]
    },
    {
     "name": "stderr",
     "output_type": "stream",
     "text": [
      "Train 45/15: 100%|██████████| 391/391 [00:09<00:00, 41.35it/s, loss=0.014, top1=0.344] \n",
      "Val 45/15: 100%|██████████| 79/79 [00:01<00:00, 45.04it/s, loss=0.0119, top1=0.447]\n"
     ]
    },
    {
     "name": "stdout",
     "output_type": "stream",
     "text": [
      "\u001b[33m\n",
      "Start epoch 46\n",
      "\u001b[0m"
     ]
    },
    {
     "name": "stderr",
     "output_type": "stream",
     "text": [
      "Train 46/15: 100%|██████████| 391/391 [00:10<00:00, 37.95it/s, loss=0.0121, top1=0.435]\n",
      "Val 46/15: 100%|██████████| 79/79 [00:01<00:00, 57.33it/s, loss=0.0111, top1=0.478]\n"
     ]
    },
    {
     "name": "stdout",
     "output_type": "stream",
     "text": [
      "\u001b[33m\n",
      "Start epoch 47\n",
      "\u001b[0m"
     ]
    },
    {
     "name": "stderr",
     "output_type": "stream",
     "text": [
      "Train 47/15: 100%|██████████| 391/391 [00:09<00:00, 39.60it/s, loss=0.0117, top1=0.455]\n",
      "Val 47/15: 100%|██████████| 79/79 [00:01<00:00, 51.35it/s, loss=0.0107, top1=0.497]\n"
     ]
    },
    {
     "name": "stdout",
     "output_type": "stream",
     "text": [
      "\u001b[33m\n",
      "Start epoch 48\n",
      "\u001b[0m"
     ]
    },
    {
     "name": "stderr",
     "output_type": "stream",
     "text": [
      "Train 48/15: 100%|██████████| 391/391 [00:09<00:00, 40.60it/s, loss=0.0115, top1=0.462]\n",
      "Val 48/15: 100%|██████████| 79/79 [00:01<00:00, 66.07it/s, loss=0.0105, top1=0.509]\n"
     ]
    },
    {
     "name": "stdout",
     "output_type": "stream",
     "text": [
      "\u001b[33m\n",
      "Start epoch 49\n",
      "\u001b[0m"
     ]
    },
    {
     "name": "stderr",
     "output_type": "stream",
     "text": [
      "Train 49/15: 100%|██████████| 391/391 [00:09<00:00, 39.70it/s, loss=0.0114, top1=0.472]\n",
      "Val 49/15: 100%|██████████| 79/79 [00:01<00:00, 56.89it/s, loss=0.0104, top1=0.516]\n"
     ]
    },
    {
     "name": "stdout",
     "output_type": "stream",
     "text": [
      "\u001b[33m\n",
      "Start epoch 50\n",
      "\u001b[0m"
     ]
    },
    {
     "name": "stderr",
     "output_type": "stream",
     "text": [
      "Train 50/15: 100%|██████████| 391/391 [00:10<00:00, 37.56it/s, loss=0.0112, top1=0.481]\n",
      "Val 50/15: 100%|██████████| 79/79 [00:01<00:00, 46.17it/s, loss=0.0103, top1=0.526]\n"
     ]
    },
    {
     "name": "stdout",
     "output_type": "stream",
     "text": [
      "\u001b[33m\n",
      "Start epoch 51\n",
      "\u001b[0m"
     ]
    },
    {
     "name": "stderr",
     "output_type": "stream",
     "text": [
      "Train 51/15: 100%|██████████| 391/391 [00:09<00:00, 40.37it/s, loss=0.011, top1=0.487] \n",
      "Val 51/15: 100%|██████████| 79/79 [00:01<00:00, 66.92it/s, loss=0.0104, top1=0.522]\n"
     ]
    },
    {
     "name": "stdout",
     "output_type": "stream",
     "text": [
      "\u001b[33m\n",
      "Start epoch 52\n",
      "\u001b[0m"
     ]
    },
    {
     "name": "stderr",
     "output_type": "stream",
     "text": [
      "Train 52/15: 100%|██████████| 391/391 [00:10<00:00, 36.96it/s, loss=0.011, top1=0.492]\n",
      "Val 52/15: 100%|██████████| 79/79 [00:01<00:00, 53.05it/s, loss=0.0101, top1=0.536] \n"
     ]
    },
    {
     "name": "stdout",
     "output_type": "stream",
     "text": [
      "\u001b[33m\n",
      "Start epoch 53\n",
      "\u001b[0m"
     ]
    },
    {
     "name": "stderr",
     "output_type": "stream",
     "text": [
      "Train 53/15: 100%|██████████| 391/391 [00:09<00:00, 41.43it/s, loss=0.0109, top1=0.498]\n",
      "Val 53/15: 100%|██████████| 79/79 [00:01<00:00, 43.94it/s, loss=0.0101, top1=0.526]\n"
     ]
    },
    {
     "name": "stdout",
     "output_type": "stream",
     "text": [
      "\u001b[33m\n",
      "Start epoch 54\n",
      "\u001b[0m"
     ]
    },
    {
     "name": "stderr",
     "output_type": "stream",
     "text": [
      "Train 54/15: 100%|██████████| 391/391 [00:09<00:00, 40.49it/s, loss=0.0108, top1=0.501]\n",
      "Val 54/15: 100%|██████████| 79/79 [00:01<00:00, 54.66it/s, loss=0.01, top1=0.533]   \n"
     ]
    },
    {
     "name": "stdout",
     "output_type": "stream",
     "text": [
      "\u001b[33m\n",
      "Start epoch 55\n",
      "\u001b[0m"
     ]
    },
    {
     "name": "stderr",
     "output_type": "stream",
     "text": [
      "Train 55/15: 100%|██████████| 391/391 [00:09<00:00, 42.05it/s, loss=0.0107, top1=0.505]\n",
      "Val 55/15: 100%|██████████| 79/79 [00:01<00:00, 48.76it/s, loss=0.00997, top1=0.534]\n"
     ]
    },
    {
     "name": "stdout",
     "output_type": "stream",
     "text": [
      "\u001b[33m\n",
      "Start epoch 56\n",
      "\u001b[0m"
     ]
    },
    {
     "name": "stderr",
     "output_type": "stream",
     "text": [
      "Train 56/15: 100%|██████████| 391/391 [00:09<00:00, 40.06it/s, loss=0.0107, top1=0.507]\n",
      "Val 56/15: 100%|██████████| 79/79 [00:02<00:00, 37.05it/s, loss=0.00987, top1=0.547]\n"
     ]
    },
    {
     "name": "stdout",
     "output_type": "stream",
     "text": [
      "\u001b[33m\n",
      "Start epoch 57\n",
      "\u001b[0m"
     ]
    },
    {
     "name": "stderr",
     "output_type": "stream",
     "text": [
      "Train 57/15: 100%|██████████| 391/391 [00:10<00:00, 38.08it/s, loss=0.0106, top1=0.511]\n",
      "Val 57/15: 100%|██████████| 79/79 [00:01<00:00, 44.41it/s, loss=0.00978, top1=0.551]\n"
     ]
    },
    {
     "name": "stdout",
     "output_type": "stream",
     "text": [
      "\u001b[33m\n",
      "Start epoch 58\n",
      "\u001b[0m"
     ]
    },
    {
     "name": "stderr",
     "output_type": "stream",
     "text": [
      "Train 58/15: 100%|██████████| 391/391 [00:11<00:00, 34.37it/s, loss=0.0106, top1=0.511]\n",
      "Val 58/15: 100%|██████████| 79/79 [00:01<00:00, 77.67it/s, loss=0.00986, top1=0.544] \n"
     ]
    },
    {
     "name": "stdout",
     "output_type": "stream",
     "text": [
      "\u001b[33m\n",
      "Start epoch 59\n",
      "\u001b[0m"
     ]
    },
    {
     "name": "stderr",
     "output_type": "stream",
     "text": [
      "Train 59/15: 100%|██████████| 391/391 [00:11<00:00, 33.46it/s, loss=0.0105, top1=0.516]\n",
      "Val 59/15: 100%|██████████| 79/79 [00:01<00:00, 50.76it/s, loss=0.00977, top1=0.55] \n"
     ]
    },
    {
     "name": "stdout",
     "output_type": "stream",
     "text": [
      "\u001b[92mModel Pruned using LayerMagWeight strategy\n",
      "\u001b[0m\u001b[92mModel Pruned using LayerMagWeight strategy\n",
      "\u001b[0m\u001b[33m\n",
      "Start epoch 60\n",
      "\u001b[0m"
     ]
    },
    {
     "name": "stderr",
     "output_type": "stream",
     "text": [
      "Train 60/15: 100%|██████████| 391/391 [00:09<00:00, 41.63it/s, loss=0.0177, top1=0.178]\n",
      "Val 60/15: 100%|██████████| 79/79 [00:01<00:00, 61.50it/s, loss=0.0164, top1=0.216]\n"
     ]
    },
    {
     "name": "stdout",
     "output_type": "stream",
     "text": [
      "\u001b[33m\n",
      "Start epoch 61\n",
      "\u001b[0m"
     ]
    },
    {
     "name": "stderr",
     "output_type": "stream",
     "text": [
      "Train 61/15: 100%|██████████| 391/391 [00:11<00:00, 34.23it/s, loss=0.0156, top1=0.237]\n",
      "Val 61/15: 100%|██████████| 79/79 [00:01<00:00, 65.10it/s, loss=0.0148, top1=0.237]\n"
     ]
    },
    {
     "name": "stdout",
     "output_type": "stream",
     "text": [
      "\u001b[33m\n",
      "Start epoch 62\n",
      "\u001b[0m"
     ]
    },
    {
     "name": "stderr",
     "output_type": "stream",
     "text": [
      "Train 62/15: 100%|██████████| 391/391 [00:10<00:00, 36.46it/s, loss=0.0149, top1=0.253]\n",
      "Val 62/15: 100%|██████████| 79/79 [00:01<00:00, 45.32it/s, loss=0.0144, top1=0.266]\n"
     ]
    },
    {
     "name": "stdout",
     "output_type": "stream",
     "text": [
      "\u001b[33m\n",
      "Start epoch 63\n",
      "\u001b[0m"
     ]
    },
    {
     "name": "stderr",
     "output_type": "stream",
     "text": [
      "Train 63/15: 100%|██████████| 391/391 [00:11<00:00, 35.40it/s, loss=0.0147, top1=0.257]\n",
      "Val 63/15: 100%|██████████| 79/79 [00:01<00:00, 66.45it/s, loss=0.0144, top1=0.264]\n"
     ]
    },
    {
     "name": "stdout",
     "output_type": "stream",
     "text": [
      "\u001b[33m\n",
      "Start epoch 64\n",
      "\u001b[0m"
     ]
    },
    {
     "name": "stderr",
     "output_type": "stream",
     "text": [
      "Train 64/15: 100%|██████████| 391/391 [00:10<00:00, 37.84it/s, loss=0.0147, top1=0.258]\n",
      "Val 64/15: 100%|██████████| 79/79 [00:01<00:00, 59.92it/s, loss=0.0143, top1=0.273]\n"
     ]
    },
    {
     "name": "stdout",
     "output_type": "stream",
     "text": [
      "\u001b[33m\n",
      "Start epoch 65\n",
      "\u001b[0m"
     ]
    },
    {
     "name": "stderr",
     "output_type": "stream",
     "text": [
      "Train 65/15: 100%|██████████| 391/391 [00:09<00:00, 40.40it/s, loss=0.0146, top1=0.261]\n",
      "Val 65/15: 100%|██████████| 79/79 [00:01<00:00, 41.14it/s, loss=0.0142, top1=0.271]\n"
     ]
    },
    {
     "name": "stdout",
     "output_type": "stream",
     "text": [
      "\u001b[33m\n",
      "Start epoch 66\n",
      "\u001b[0m"
     ]
    },
    {
     "name": "stderr",
     "output_type": "stream",
     "text": [
      "Train 66/15: 100%|██████████| 391/391 [00:10<00:00, 35.88it/s, loss=0.0146, top1=0.264]\n",
      "Val 66/15: 100%|██████████| 79/79 [00:01<00:00, 50.43it/s, loss=0.0141, top1=0.267]\n"
     ]
    },
    {
     "name": "stdout",
     "output_type": "stream",
     "text": [
      "\u001b[33m\n",
      "Start epoch 67\n",
      "\u001b[0m"
     ]
    },
    {
     "name": "stderr",
     "output_type": "stream",
     "text": [
      "Train 67/15: 100%|██████████| 391/391 [00:10<00:00, 38.95it/s, loss=0.0145, top1=0.264]\n",
      "Val 67/15: 100%|██████████| 79/79 [00:01<00:00, 50.00it/s, loss=0.0141, top1=0.286]\n"
     ]
    },
    {
     "name": "stdout",
     "output_type": "stream",
     "text": [
      "\u001b[33m\n",
      "Start epoch 68\n",
      "\u001b[0m"
     ]
    },
    {
     "name": "stderr",
     "output_type": "stream",
     "text": [
      "Train 68/15: 100%|██████████| 391/391 [00:10<00:00, 38.23it/s, loss=0.0145, top1=0.269]\n",
      "Val 68/15: 100%|██████████| 79/79 [00:00<00:00, 89.06it/s, loss=0.0142, top1=0.267] \n"
     ]
    },
    {
     "name": "stdout",
     "output_type": "stream",
     "text": [
      "\u001b[33m\n",
      "Start epoch 69\n",
      "\u001b[0m"
     ]
    },
    {
     "name": "stderr",
     "output_type": "stream",
     "text": [
      "Train 69/15: 100%|██████████| 391/391 [00:10<00:00, 37.37it/s, loss=0.0145, top1=0.269]\n",
      "Val 69/15: 100%|██████████| 79/79 [00:01<00:00, 41.00it/s, loss=0.014, top1=0.279] \n"
     ]
    },
    {
     "name": "stdout",
     "output_type": "stream",
     "text": [
      "\u001b[33m\n",
      "Start epoch 70\n",
      "\u001b[0m"
     ]
    },
    {
     "name": "stderr",
     "output_type": "stream",
     "text": [
      "Train 70/15: 100%|██████████| 391/391 [00:10<00:00, 36.19it/s, loss=0.0144, top1=0.269]\n",
      "Val 70/15: 100%|██████████| 79/79 [00:01<00:00, 57.85it/s, loss=0.014, top1=0.284] \n"
     ]
    },
    {
     "name": "stdout",
     "output_type": "stream",
     "text": [
      "\u001b[33m\n",
      "Start epoch 71\n",
      "\u001b[0m"
     ]
    },
    {
     "name": "stderr",
     "output_type": "stream",
     "text": [
      "Train 71/15: 100%|██████████| 391/391 [00:11<00:00, 35.44it/s, loss=0.0144, top1=0.273]\n",
      "Val 71/15: 100%|██████████| 79/79 [00:01<00:00, 53.74it/s, loss=0.0142, top1=0.288]\n"
     ]
    },
    {
     "name": "stdout",
     "output_type": "stream",
     "text": [
      "\u001b[33m\n",
      "Start epoch 72\n",
      "\u001b[0m"
     ]
    },
    {
     "name": "stderr",
     "output_type": "stream",
     "text": [
      "Train 72/15: 100%|██████████| 391/391 [00:10<00:00, 36.49it/s, loss=0.0144, top1=0.276]\n",
      "Val 72/15: 100%|██████████| 79/79 [00:01<00:00, 48.31it/s, loss=0.014, top1=0.286] \n"
     ]
    },
    {
     "name": "stdout",
     "output_type": "stream",
     "text": [
      "\u001b[33m\n",
      "Start epoch 73\n",
      "\u001b[0m"
     ]
    },
    {
     "name": "stderr",
     "output_type": "stream",
     "text": [
      "Train 73/15: 100%|██████████| 391/391 [00:09<00:00, 42.63it/s, loss=0.0143, top1=0.279]\n",
      "Val 73/15: 100%|██████████| 79/79 [00:01<00:00, 46.80it/s, loss=0.0141, top1=0.286]\n"
     ]
    },
    {
     "name": "stdout",
     "output_type": "stream",
     "text": [
      "\u001b[33m\n",
      "Start epoch 74\n",
      "\u001b[0m"
     ]
    },
    {
     "name": "stderr",
     "output_type": "stream",
     "text": [
      "Train 74/15: 100%|██████████| 391/391 [00:11<00:00, 34.16it/s, loss=0.0143, top1=0.285]\n",
      "Val 74/15: 100%|██████████| 79/79 [00:01<00:00, 55.20it/s, loss=0.0139, top1=0.299]\n"
     ]
    },
    {
     "name": "stdout",
     "output_type": "stream",
     "text": [
      "\u001b[92mModel Pruned using LayerMagWeight strategy\n",
      "\u001b[0m\u001b[92mModel Pruned using LayerMagWeight strategy\n",
      "\u001b[0m\u001b[33m\n",
      "Start epoch 75\n",
      "\u001b[0m"
     ]
    },
    {
     "name": "stderr",
     "output_type": "stream",
     "text": [
      "Train 75/15: 100%|██████████| 391/391 [00:09<00:00, 40.84it/s, loss=0.0181, top1=0.0993]\n",
      "Val 75/15: 100%|██████████| 79/79 [00:01<00:00, 43.97it/s, loss=0.018, top1=0.0989]\n"
     ]
    },
    {
     "name": "stdout",
     "output_type": "stream",
     "text": [
      "\u001b[33m\n",
      "Start epoch 76\n",
      "\u001b[0m"
     ]
    },
    {
     "name": "stderr",
     "output_type": "stream",
     "text": [
      "Train 76/15: 100%|██████████| 391/391 [00:10<00:00, 38.92it/s, loss=0.018, top1=0.0982]\n",
      "Val 76/15: 100%|██████████| 79/79 [00:01<00:00, 51.09it/s, loss=0.018, top1=0.0989]\n"
     ]
    },
    {
     "name": "stdout",
     "output_type": "stream",
     "text": [
      "\u001b[33m\n",
      "Start epoch 77\n",
      "\u001b[0m"
     ]
    },
    {
     "name": "stderr",
     "output_type": "stream",
     "text": [
      "Train 77/15: 100%|██████████| 391/391 [00:10<00:00, 36.51it/s, loss=0.018, top1=0.0983]\n",
      "Val 77/15: 100%|██████████| 79/79 [00:01<00:00, 49.45it/s, loss=0.018, top1=0.0989]\n"
     ]
    },
    {
     "name": "stdout",
     "output_type": "stream",
     "text": [
      "\u001b[33m\n",
      "Start epoch 78\n",
      "\u001b[0m"
     ]
    },
    {
     "name": "stderr",
     "output_type": "stream",
     "text": [
      "Train 78/15: 100%|██████████| 391/391 [00:09<00:00, 41.04it/s, loss=0.018, top1=0.0978]\n",
      "Val 78/15: 100%|██████████| 79/79 [00:01<00:00, 46.18it/s, loss=0.018, top1=0.0989]\n"
     ]
    },
    {
     "name": "stdout",
     "output_type": "stream",
     "text": [
      "\u001b[33m\n",
      "Start epoch 79\n",
      "\u001b[0m"
     ]
    },
    {
     "name": "stderr",
     "output_type": "stream",
     "text": [
      "Train 79/15: 100%|██████████| 391/391 [00:11<00:00, 35.49it/s, loss=0.018, top1=0.1]   \n",
      "Val 79/15: 100%|██████████| 79/79 [00:01<00:00, 42.40it/s, loss=0.018, top1=0.0989]\n"
     ]
    },
    {
     "name": "stdout",
     "output_type": "stream",
     "text": [
      "\u001b[33m\n",
      "Start epoch 80\n",
      "\u001b[0m"
     ]
    },
    {
     "name": "stderr",
     "output_type": "stream",
     "text": [
      "Train 80/15: 100%|██████████| 391/391 [00:10<00:00, 38.98it/s, loss=0.018, top1=0.0983]\n",
      "Val 80/15: 100%|██████████| 79/79 [00:01<00:00, 56.12it/s, loss=0.018, top1=0.0989]\n"
     ]
    },
    {
     "name": "stdout",
     "output_type": "stream",
     "text": [
      "\u001b[33m\n",
      "Start epoch 81\n",
      "\u001b[0m"
     ]
    },
    {
     "name": "stderr",
     "output_type": "stream",
     "text": [
      "Train 81/15: 100%|██████████| 391/391 [00:13<00:00, 29.31it/s, loss=0.018, top1=0.1]   \n",
      "Val 81/15: 100%|██████████| 79/79 [00:01<00:00, 44.13it/s, loss=0.018, top1=0.0989]\n"
     ]
    },
    {
     "name": "stdout",
     "output_type": "stream",
     "text": [
      "\u001b[33m\n",
      "Start epoch 82\n",
      "\u001b[0m"
     ]
    },
    {
     "name": "stderr",
     "output_type": "stream",
     "text": [
      "Train 82/15: 100%|██████████| 391/391 [00:09<00:00, 39.30it/s, loss=0.018, top1=0.0985]\n",
      "Val 82/15: 100%|██████████| 79/79 [00:01<00:00, 46.99it/s, loss=0.018, top1=0.0989]\n"
     ]
    },
    {
     "name": "stdout",
     "output_type": "stream",
     "text": [
      "\u001b[33m\n",
      "Start epoch 83\n",
      "\u001b[0m"
     ]
    },
    {
     "name": "stderr",
     "output_type": "stream",
     "text": [
      "Train 83/15: 100%|██████████| 391/391 [00:10<00:00, 36.63it/s, loss=0.018, top1=0.0979]\n",
      "Val 83/15: 100%|██████████| 79/79 [00:01<00:00, 49.49it/s, loss=0.018, top1=0.0989]\n"
     ]
    },
    {
     "name": "stdout",
     "output_type": "stream",
     "text": [
      "\u001b[33m\n",
      "Start epoch 84\n",
      "\u001b[0m"
     ]
    },
    {
     "name": "stderr",
     "output_type": "stream",
     "text": [
      "Train 84/15: 100%|██████████| 391/391 [00:10<00:00, 38.22it/s, loss=0.018, top1=0.098] \n",
      "Val 84/15: 100%|██████████| 79/79 [00:02<00:00, 34.63it/s, loss=0.018, top1=0.0989]\n"
     ]
    },
    {
     "name": "stdout",
     "output_type": "stream",
     "text": [
      "\u001b[33m\n",
      "Start epoch 85\n",
      "\u001b[0m"
     ]
    },
    {
     "name": "stderr",
     "output_type": "stream",
     "text": [
      "Train 85/15: 100%|██████████| 391/391 [00:10<00:00, 36.69it/s, loss=0.018, top1=0.0995]\n",
      "Val 85/15: 100%|██████████| 79/79 [00:01<00:00, 58.45it/s, loss=0.018, top1=0.0989]\n"
     ]
    },
    {
     "name": "stdout",
     "output_type": "stream",
     "text": [
      "\u001b[33m\n",
      "Start epoch 86\n",
      "\u001b[0m"
     ]
    },
    {
     "name": "stderr",
     "output_type": "stream",
     "text": [
      "Train 86/15: 100%|██████████| 391/391 [00:11<00:00, 35.37it/s, loss=0.018, top1=0.0973]\n",
      "Val 86/15: 100%|██████████| 79/79 [00:02<00:00, 29.85it/s, loss=0.018, top1=0.0989]\n"
     ]
    },
    {
     "name": "stdout",
     "output_type": "stream",
     "text": [
      "\u001b[33m\n",
      "Start epoch 87\n",
      "\u001b[0m"
     ]
    },
    {
     "name": "stderr",
     "output_type": "stream",
     "text": [
      "Train 87/15: 100%|██████████| 391/391 [00:10<00:00, 36.97it/s, loss=0.018, top1=0.0998]\n",
      "Val 87/15: 100%|██████████| 79/79 [00:01<00:00, 53.94it/s, loss=0.018, top1=0.0989]\n"
     ]
    },
    {
     "name": "stdout",
     "output_type": "stream",
     "text": [
      "\u001b[33m\n",
      "Start epoch 88\n",
      "\u001b[0m"
     ]
    },
    {
     "name": "stderr",
     "output_type": "stream",
     "text": [
      "Train 88/15: 100%|██████████| 391/391 [00:10<00:00, 38.94it/s, loss=0.018, top1=0.0982]\n",
      "Val 88/15: 100%|██████████| 79/79 [00:01<00:00, 64.16it/s, loss=0.018, top1=0.0989]\n"
     ]
    },
    {
     "name": "stdout",
     "output_type": "stream",
     "text": [
      "\u001b[33m\n",
      "Start epoch 89\n",
      "\u001b[0m"
     ]
    },
    {
     "name": "stderr",
     "output_type": "stream",
     "text": [
      "Train 89/15: 100%|██████████| 391/391 [00:10<00:00, 36.32it/s, loss=0.018, top1=0.102]\n",
      "Val 89/15: 100%|██████████| 79/79 [00:01<00:00, 42.15it/s, loss=0.018, top1=0.0989]\n"
     ]
    },
    {
     "name": "stdout",
     "output_type": "stream",
     "text": [
      "\u001b[92mModel Pruned using LayerMagWeight strategy\n",
      "\u001b[0m\u001b[92mModel Pruned using LayerMagWeight strategy\n",
      "\u001b[0m\u001b[33m\n",
      "Start epoch 90\n",
      "\u001b[0m"
     ]
    },
    {
     "name": "stderr",
     "output_type": "stream",
     "text": [
      "Train 90/15: 100%|██████████| 391/391 [00:11<00:00, 34.57it/s, loss=0.0182, top1=0.0984]\n",
      "Val 90/15: 100%|██████████| 79/79 [00:01<00:00, 45.21it/s, loss=0.018, top1=0.0989]\n"
     ]
    },
    {
     "name": "stdout",
     "output_type": "stream",
     "text": [
      "\u001b[33m\n",
      "Start epoch 91\n",
      "\u001b[0m"
     ]
    },
    {
     "name": "stderr",
     "output_type": "stream",
     "text": [
      "Train 91/15: 100%|██████████| 391/391 [00:10<00:00, 35.82it/s, loss=0.018, top1=0.099] \n",
      "Val 91/15: 100%|██████████| 79/79 [00:01<00:00, 45.26it/s, loss=0.018, top1=0.0989]\n"
     ]
    },
    {
     "name": "stdout",
     "output_type": "stream",
     "text": [
      "\u001b[33m\n",
      "Start epoch 92\n",
      "\u001b[0m"
     ]
    },
    {
     "name": "stderr",
     "output_type": "stream",
     "text": [
      "Train 92/15: 100%|██████████| 391/391 [00:11<00:00, 34.66it/s, loss=0.018, top1=0.0982]\n",
      "Val 92/15: 100%|██████████| 79/79 [00:01<00:00, 60.45it/s, loss=0.018, top1=0.0989]\n"
     ]
    },
    {
     "name": "stdout",
     "output_type": "stream",
     "text": [
      "\u001b[33m\n",
      "Start epoch 93\n",
      "\u001b[0m"
     ]
    },
    {
     "name": "stderr",
     "output_type": "stream",
     "text": [
      "Train 93/15: 100%|██████████| 391/391 [00:12<00:00, 32.09it/s, loss=0.018, top1=0.1]   \n",
      "Val 93/15: 100%|██████████| 79/79 [00:01<00:00, 54.93it/s, loss=0.018, top1=0.0989]\n"
     ]
    },
    {
     "name": "stdout",
     "output_type": "stream",
     "text": [
      "\u001b[33m\n",
      "Start epoch 94\n",
      "\u001b[0m"
     ]
    },
    {
     "name": "stderr",
     "output_type": "stream",
     "text": [
      "Train 94/15: 100%|██████████| 391/391 [00:10<00:00, 38.86it/s, loss=0.018, top1=0.0995]\n",
      "Val 94/15: 100%|██████████| 79/79 [00:01<00:00, 66.33it/s, loss=0.018, top1=0.0989]\n"
     ]
    },
    {
     "name": "stdout",
     "output_type": "stream",
     "text": [
      "\u001b[33m\n",
      "Start epoch 95\n",
      "\u001b[0m"
     ]
    },
    {
     "name": "stderr",
     "output_type": "stream",
     "text": [
      "Train 95/15: 100%|██████████| 391/391 [00:10<00:00, 38.79it/s, loss=0.018, top1=0.0993]\n",
      "Val 95/15: 100%|██████████| 79/79 [00:01<00:00, 42.86it/s, loss=0.018, top1=0.0989]\n"
     ]
    },
    {
     "name": "stdout",
     "output_type": "stream",
     "text": [
      "\u001b[33m\n",
      "Start epoch 96\n",
      "\u001b[0m"
     ]
    },
    {
     "name": "stderr",
     "output_type": "stream",
     "text": [
      "Train 96/15: 100%|██████████| 391/391 [00:10<00:00, 36.90it/s, loss=0.018, top1=0.0969]\n",
      "Val 96/15: 100%|██████████| 79/79 [00:01<00:00, 54.60it/s, loss=0.018, top1=0.0989]\n"
     ]
    },
    {
     "name": "stdout",
     "output_type": "stream",
     "text": [
      "\u001b[33m\n",
      "Start epoch 97\n",
      "\u001b[0m"
     ]
    },
    {
     "name": "stderr",
     "output_type": "stream",
     "text": [
      "Train 97/15: 100%|██████████| 391/391 [00:08<00:00, 48.48it/s, loss=0.018, top1=0.101]\n",
      "Val 97/15: 100%|██████████| 79/79 [00:01<00:00, 48.56it/s, loss=0.018, top1=0.0989]\n"
     ]
    },
    {
     "name": "stdout",
     "output_type": "stream",
     "text": [
      "\u001b[33m\n",
      "Start epoch 98\n",
      "\u001b[0m"
     ]
    },
    {
     "name": "stderr",
     "output_type": "stream",
     "text": [
      "Train 98/15: 100%|██████████| 391/391 [00:09<00:00, 39.57it/s, loss=0.018, top1=0.0993]\n",
      "Val 98/15: 100%|██████████| 79/79 [00:01<00:00, 40.16it/s, loss=0.018, top1=0.0989]\n"
     ]
    },
    {
     "name": "stdout",
     "output_type": "stream",
     "text": [
      "\u001b[33m\n",
      "Start epoch 99\n",
      "\u001b[0m"
     ]
    },
    {
     "name": "stderr",
     "output_type": "stream",
     "text": [
      "Train 99/15: 100%|██████████| 391/391 [00:11<00:00, 34.81it/s, loss=0.018, top1=0.0992]\n",
      "Val 99/15: 100%|██████████| 79/79 [00:01<00:00, 48.42it/s, loss=0.018, top1=0.0989]\n"
     ]
    },
    {
     "name": "stdout",
     "output_type": "stream",
     "text": [
      "\u001b[33m\n",
      "Start epoch 100\n",
      "\u001b[0m"
     ]
    },
    {
     "name": "stderr",
     "output_type": "stream",
     "text": [
      "Train 100/15: 100%|██████████| 391/391 [00:12<00:00, 31.07it/s, loss=0.018, top1=0.0989]\n",
      "Val 100/15: 100%|██████████| 79/79 [00:01<00:00, 44.57it/s, loss=0.018, top1=0.0989]\n"
     ]
    },
    {
     "name": "stdout",
     "output_type": "stream",
     "text": [
      "\u001b[33m\n",
      "Start epoch 101\n",
      "\u001b[0m"
     ]
    },
    {
     "name": "stderr",
     "output_type": "stream",
     "text": [
      "Train 101/15: 100%|██████████| 391/391 [00:09<00:00, 39.90it/s, loss=0.018, top1=0.0978]\n",
      "Val 101/15: 100%|██████████| 79/79 [00:01<00:00, 49.60it/s, loss=0.018, top1=0.0989]\n"
     ]
    },
    {
     "name": "stdout",
     "output_type": "stream",
     "text": [
      "\u001b[33m\n",
      "Start epoch 102\n",
      "\u001b[0m"
     ]
    },
    {
     "name": "stderr",
     "output_type": "stream",
     "text": [
      "Train 102/15: 100%|██████████| 391/391 [00:11<00:00, 34.55it/s, loss=0.018, top1=0.0986]\n",
      "Val 102/15: 100%|██████████| 79/79 [00:01<00:00, 44.46it/s, loss=0.018, top1=0.0989]\n"
     ]
    },
    {
     "name": "stdout",
     "output_type": "stream",
     "text": [
      "\u001b[33m\n",
      "Start epoch 103\n",
      "\u001b[0m"
     ]
    },
    {
     "name": "stderr",
     "output_type": "stream",
     "text": [
      "Train 103/15: 100%|██████████| 391/391 [00:11<00:00, 34.89it/s, loss=0.018, top1=0.101] \n",
      "Val 103/15: 100%|██████████| 79/79 [00:01<00:00, 44.68it/s, loss=0.018, top1=0.0989]\n"
     ]
    },
    {
     "name": "stdout",
     "output_type": "stream",
     "text": [
      "\u001b[33m\n",
      "Start epoch 104\n",
      "\u001b[0m"
     ]
    },
    {
     "name": "stderr",
     "output_type": "stream",
     "text": [
      "Train 104/15: 100%|██████████| 391/391 [00:10<00:00, 35.65it/s, loss=0.018, top1=0.0992]\n",
      "Val 104/15: 100%|██████████| 79/79 [00:01<00:00, 60.53it/s, loss=0.018, top1=0.0989]\n"
     ]
    },
    {
     "name": "stdout",
     "output_type": "stream",
     "text": [
      "\u001b[92mModel Pruned using LayerMagWeight strategy\n",
      "\u001b[0m"
     ]
    }
   ],
   "source": [
    "model_arch = \"LeNet_C10\"#\"Perceptron200_C10\",\"Perceptron400_C10\", \"Perceptron800_C10\"\n",
    "dataset = \"CIFAR10\" \n",
    "strategy = \"LayerMagWeight\"\n",
    "sparsity = [1,0.1,0.01,0.001,0.0001,0.00001]\n",
    "compressions = [[1,1,1/i,1/i] for i in sparsity]\n",
    "#don't change below\n",
    "model_layers = [25, 15, 10]\n",
    "sample_points = 5\n",
    "method = 'none'\n",
    "model_num = 1\n",
    "csv_name = 'testing123'\n",
    "times = 2\n",
    "\n",
    "acc_lst = []\n",
    "acc_temp = []\n",
    "for i in range(times):\n",
    "    acc_temp.append(newExperiment(model_arch, dataset, strategy, compressions, model_layers, csv_name, sample_points, method, model_num, seed=i))\n",
    "    \n",
    "for c in range(len(acc_temp[0])):\n",
    "    sum_a = 0\n",
    "    for seed in range(times):\n",
    "        sum_a += acc_temp[seed][c]\n",
    "    sum_a = sum_a / times\n",
    "    acc_lst.append(sum_a)"
   ]
  },
  {
   "cell_type": "code",
   "execution_count": 3,
   "id": "ee599bde",
   "metadata": {},
   "outputs": [
    {
     "data": {
      "text/plain": [
       "[<matplotlib.lines.Line2D at 0x7f1e2b5dc5b0>]"
      ]
     },
     "execution_count": 3,
     "metadata": {},
     "output_type": "execute_result"
    },
    {
     "data": {
      "image/png": "[encoded data removed]",
      "text/plain": [
       "<Figure size 432x288 with 1 Axes>"
      ]
     },
     "metadata": {
      "needs_background": "light"
     },
     "output_type": "display_data"
    }
   ],
   "source": [
    "plt.plot([str(i) for i in sparsity], acc_lst, \"-o\")"
   ]
  },
  {
   "cell_type": "code",
   "execution_count": null,
   "id": "89ca6c6a",
   "metadata": {},
   "outputs": [],
   "source": []
  }
 ],
 "metadata": {
  "kernelspec": {
   "display_name": "Python 3",
   "language": "python",
   "name": "python3"
  },
  "language_info": {
   "codemirror_mode": {
    "name": "ipython",
    "version": 3
   },
   "file_extension": ".py",
   "mimetype": "text/x-python",
   "name": "python",
   "nbconvert_exporter": "python",
   "pygments_lexer": "ipython3",
   "version": "3.9.12"
  }
 },
 "nbformat": 4,
 "nbformat_minor": 5
}

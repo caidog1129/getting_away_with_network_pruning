{
 "cells": [
  {
   "cell_type": "code",
   "execution_count": 2,
   "id": "beeec0cd",
   "metadata": {},
   "outputs": [],
   "source": [
    "from MILP import MILP\n",
    "from PruneModel import prune_model, load_model\n",
    "from IPython.display import clear_output\n",
    "from Integrator import newExperiment\n",
    "import matplotlib.pyplot as plt"
   ]
  },
  {
   "cell_type": "code",
   "execution_count": 3,
   "id": "e2374f50-375e-4c52-8edb-60be515a6df3",
   "metadata": {},
   "outputs": [
    {
     "data": {
      "text/plain": [
       "16"
      ]
     },
     "execution_count": 3,
     "metadata": {},
     "output_type": "execute_result"
    }
   ],
   "source": [
    "import multiprocessing\n",
    "multiprocessing.cpu_count()"
   ]
  },
  {
   "cell_type": "code",
   "execution_count": null,
   "id": "e9193e3d",
   "metadata": {},
   "outputs": [
    {
     "name": "stdout",
     "output_type": "stream",
     "text": [
      "\u001b[92mGPU AVAILABLE\n",
      "\u001b[0m\u001b[95mLogging results to results/20220922-193352-VKU5-Perceptron100\n",
      "\u001b[0m"
     ]
    },
    {
     "name": "stderr",
     "output_type": "stream",
     "text": [
      "Val -1/15: 100%|██████████| 79/79 [00:00<00:00, 166.30it/s, loss=0.0181, top1=0.0798]\n"
     ]
    },
    {
     "name": "stdout",
     "output_type": "stream",
     "text": [
      "\u001b[33m\n",
      "Start epoch 0\n",
      "\u001b[0m"
     ]
    },
    {
     "name": "stderr",
     "output_type": "stream",
     "text": [
      "Train 0/15: 100%|██████████| 469/469 [00:02<00:00, 217.50it/s, loss=0.00344, top1=0.87] \n",
      "Val 0/15: 100%|██████████| 79/79 [00:00<00:00, 157.82it/s, loss=0.00148, top1=0.931]\n"
     ]
    },
    {
     "name": "stdout",
     "output_type": "stream",
     "text": [
      "\u001b[33m\n",
      "Start epoch 1\n",
      "\u001b[0m"
     ]
    },
    {
     "name": "stderr",
     "output_type": "stream",
     "text": [
      "Train 1/15: 100%|██████████| 469/469 [00:02<00:00, 219.11it/s, loss=0.00129, top1=0.951]\n",
      "Val 1/15: 100%|██████████| 79/79 [00:00<00:00, 152.31it/s, loss=0.00101, top1=0.95]  \n"
     ]
    },
    {
     "name": "stdout",
     "output_type": "stream",
     "text": [
      "\u001b[33m\n",
      "Start epoch 2\n",
      "\u001b[0m"
     ]
    },
    {
     "name": "stderr",
     "output_type": "stream",
     "text": [
      "Train 2/15: 100%|██████████| 469/469 [00:02<00:00, 218.11it/s, loss=0.000883, top1=0.967]\n",
      "Val 2/15: 100%|██████████| 79/79 [00:00<00:00, 154.09it/s, loss=0.00079, top1=0.957] \n"
     ]
    },
    {
     "name": "stdout",
     "output_type": "stream",
     "text": [
      "\u001b[33m\n",
      "Start epoch 3\n",
      "\u001b[0m"
     ]
    },
    {
     "name": "stderr",
     "output_type": "stream",
     "text": [
      "Train 3/15: 100%|██████████| 469/469 [00:02<00:00, 222.49it/s, loss=0.000677, top1=0.973]\n",
      "Val 3/15: 100%|██████████| 79/79 [00:00<00:00, 146.47it/s, loss=0.000717, top1=0.961]\n"
     ]
    },
    {
     "name": "stdout",
     "output_type": "stream",
     "text": [
      "\u001b[33m\n",
      "Start epoch 4\n",
      "\u001b[0m"
     ]
    },
    {
     "name": "stderr",
     "output_type": "stream",
     "text": [
      "Train 4/15: 100%|██████████| 469/469 [00:02<00:00, 224.44it/s, loss=0.000543, top1=0.979]\n",
      "Val 4/15: 100%|██████████| 79/79 [00:00<00:00, 148.85it/s, loss=0.000619, top1=0.964]\n"
     ]
    },
    {
     "name": "stdout",
     "output_type": "stream",
     "text": [
      "\u001b[33m\n",
      "Start epoch 5\n",
      "\u001b[0m"
     ]
    },
    {
     "name": "stderr",
     "output_type": "stream",
     "text": [
      "Train 5/15: 100%|██████████| 469/469 [00:02<00:00, 221.67it/s, loss=0.000449, top1=0.982]\n",
      "Val 5/15: 100%|██████████| 79/79 [00:00<00:00, 151.59it/s, loss=0.000595, top1=0.964]\n"
     ]
    },
    {
     "name": "stdout",
     "output_type": "stream",
     "text": [
      "\u001b[33m\n",
      "Start epoch 6\n",
      "\u001b[0m"
     ]
    },
    {
     "name": "stderr",
     "output_type": "stream",
     "text": [
      "Train 6/15: 100%|██████████| 469/469 [00:02<00:00, 220.05it/s, loss=0.00037, top1=0.986] \n",
      "Val 6/15: 100%|██████████| 79/79 [00:00<00:00, 148.00it/s, loss=0.000569, top1=0.966]\n"
     ]
    },
    {
     "name": "stdout",
     "output_type": "stream",
     "text": [
      "\u001b[33m\n",
      "Start epoch 7\n",
      "\u001b[0m"
     ]
    },
    {
     "name": "stderr",
     "output_type": "stream",
     "text": [
      "Train 7/15: 100%|██████████| 469/469 [00:02<00:00, 212.98it/s, loss=0.000317, top1=0.987]\n",
      "Val 7/15: 100%|██████████| 79/79 [00:00<00:00, 151.85it/s, loss=0.000556, top1=0.966]\n"
     ]
    },
    {
     "name": "stdout",
     "output_type": "stream",
     "text": [
      "\u001b[33m\n",
      "Start epoch 8\n",
      "\u001b[0m"
     ]
    },
    {
     "name": "stderr",
     "output_type": "stream",
     "text": [
      "Train 8/15: 100%|██████████| 469/469 [00:02<00:00, 217.66it/s, loss=0.000266, top1=0.989]\n",
      "Val 8/15: 100%|██████████| 79/79 [00:00<00:00, 158.02it/s, loss=0.000577, top1=0.965]\n"
     ]
    },
    {
     "name": "stdout",
     "output_type": "stream",
     "text": [
      "\u001b[33m\n",
      "Start epoch 9\n",
      "\u001b[0m"
     ]
    },
    {
     "name": "stderr",
     "output_type": "stream",
     "text": [
      "Train 9/15: 100%|██████████| 469/469 [00:02<00:00, 214.57it/s, loss=0.000224, top1=0.991]\n",
      "Val 9/15: 100%|██████████| 79/79 [00:00<00:00, 165.18it/s, loss=0.000544, top1=0.968]\n"
     ]
    },
    {
     "name": "stdout",
     "output_type": "stream",
     "text": [
      "\u001b[33m\n",
      "Start epoch 10\n",
      "\u001b[0m"
     ]
    },
    {
     "name": "stderr",
     "output_type": "stream",
     "text": [
      "Train 10/15: 100%|██████████| 469/469 [00:02<00:00, 217.57it/s, loss=0.00019, top1=0.993] \n",
      "Val 10/15: 100%|██████████| 79/79 [00:00<00:00, 142.65it/s, loss=0.000543, top1=0.968]\n"
     ]
    },
    {
     "name": "stdout",
     "output_type": "stream",
     "text": [
      "\u001b[33m\n",
      "Start epoch 11\n",
      "\u001b[0m"
     ]
    },
    {
     "name": "stderr",
     "output_type": "stream",
     "text": [
      "Train 11/15: 100%|██████████| 469/469 [00:02<00:00, 216.72it/s, loss=0.000162, top1=0.994]\n",
      "Val 11/15: 100%|██████████| 79/79 [00:00<00:00, 156.68it/s, loss=0.000553, top1=0.969]\n"
     ]
    },
    {
     "name": "stdout",
     "output_type": "stream",
     "text": [
      "\u001b[33m\n",
      "Start epoch 12\n",
      "\u001b[0m"
     ]
    },
    {
     "name": "stderr",
     "output_type": "stream",
     "text": [
      "Train 12/15: 100%|██████████| 469/469 [00:02<00:00, 223.45it/s, loss=0.000138, top1=0.995]\n",
      "Val 12/15: 100%|██████████| 79/79 [00:00<00:00, 158.81it/s, loss=0.000551, top1=0.968]\n"
     ]
    },
    {
     "name": "stdout",
     "output_type": "stream",
     "text": [
      "\u001b[33m\n",
      "Start epoch 13\n",
      "\u001b[0m"
     ]
    },
    {
     "name": "stderr",
     "output_type": "stream",
     "text": [
      "Train 13/15: 100%|██████████| 469/469 [00:02<00:00, 214.17it/s, loss=0.00011, top1=0.996] \n",
      "Val 13/15: 100%|██████████| 79/79 [00:00<00:00, 159.77it/s, loss=0.000584, top1=0.968]\n"
     ]
    },
    {
     "name": "stdout",
     "output_type": "stream",
     "text": [
      "\u001b[33m\n",
      "Start epoch 14\n",
      "\u001b[0m"
     ]
    },
    {
     "name": "stderr",
     "output_type": "stream",
     "text": [
      "Train 14/15: 100%|██████████| 469/469 [00:02<00:00, 217.41it/s, loss=9.89e-5, top1=0.996]\n",
      "Val 14/15: 100%|██████████| 79/79 [00:00<00:00, 155.97it/s, loss=0.000556, top1=0.971]\n"
     ]
    },
    {
     "name": "stdout",
     "output_type": "stream",
     "text": [
      "\u001b[92mModel Pruned using LayerMagWeight strategy\n",
      "\u001b[0m\u001b[33m\n",
      "Start epoch 15\n",
      "\u001b[0m"
     ]
    },
    {
     "name": "stderr",
     "output_type": "stream",
     "text": [
      "Train 15/15: 100%|██████████| 469/469 [00:02<00:00, 212.41it/s, loss=0.000166, top1=0.994]\n",
      "Val 15/15: 100%|██████████| 79/79 [00:00<00:00, 152.75it/s, loss=0.000531, top1=0.97] \n"
     ]
    },
    {
     "name": "stdout",
     "output_type": "stream",
     "text": [
      "\u001b[33m\n",
      "Start epoch 16\n",
      "\u001b[0m"
     ]
    },
    {
     "name": "stderr",
     "output_type": "stream",
     "text": [
      "Train 16/15: 100%|██████████| 469/469 [00:02<00:00, 215.14it/s, loss=0.00014, top1=0.994] \n",
      "Val 16/15: 100%|██████████| 79/79 [00:00<00:00, 152.94it/s, loss=0.000565, top1=0.967]\n"
     ]
    },
    {
     "name": "stdout",
     "output_type": "stream",
     "text": [
      "\u001b[33m\n",
      "Start epoch 17\n",
      "\u001b[0m"
     ]
    },
    {
     "name": "stderr",
     "output_type": "stream",
     "text": [
      "Train 17/15: 100%|██████████| 469/469 [00:02<00:00, 219.80it/s, loss=0.000113, top1=0.996]\n",
      "Val 17/15: 100%|██████████| 79/79 [00:00<00:00, 150.00it/s, loss=0.000557, top1=0.969]\n"
     ]
    },
    {
     "name": "stdout",
     "output_type": "stream",
     "text": [
      "\u001b[33m\n",
      "Start epoch 18\n",
      "\u001b[0m"
     ]
    },
    {
     "name": "stderr",
     "output_type": "stream",
     "text": [
      "Train 18/15: 100%|██████████| 469/469 [00:02<00:00, 225.69it/s, loss=8.78e-5, top1=0.997]\n",
      "Val 18/15: 100%|██████████| 79/79 [00:00<00:00, 152.72it/s, loss=0.000568, top1=0.968]\n"
     ]
    },
    {
     "name": "stdout",
     "output_type": "stream",
     "text": [
      "\u001b[33m\n",
      "Start epoch 19\n",
      "\u001b[0m"
     ]
    },
    {
     "name": "stderr",
     "output_type": "stream",
     "text": [
      "Train 19/15: 100%|██████████| 469/469 [00:02<00:00, 221.72it/s, loss=7.83e-5, top1=0.997]\n",
      "Val 19/15: 100%|██████████| 79/79 [00:00<00:00, 160.40it/s, loss=0.00058, top1=0.968] \n"
     ]
    },
    {
     "name": "stdout",
     "output_type": "stream",
     "text": [
      "\u001b[33m\n",
      "Start epoch 20\n",
      "\u001b[0m"
     ]
    },
    {
     "name": "stderr",
     "output_type": "stream",
     "text": [
      "Train 20/15: 100%|██████████| 469/469 [00:02<00:00, 224.91it/s, loss=6.58e-5, top1=0.998]\n",
      "Val 20/15: 100%|██████████| 79/79 [00:00<00:00, 158.44it/s, loss=0.000582, top1=0.969]\n"
     ]
    },
    {
     "name": "stdout",
     "output_type": "stream",
     "text": [
      "\u001b[33m\n",
      "Start epoch 21\n",
      "\u001b[0m"
     ]
    },
    {
     "name": "stderr",
     "output_type": "stream",
     "text": [
      "Train 21/15: 100%|██████████| 469/469 [00:02<00:00, 227.00it/s, loss=4.97e-5, top1=0.999]\n",
      "Val 21/15: 100%|██████████| 79/79 [00:00<00:00, 156.09it/s, loss=0.000549, top1=0.971]\n"
     ]
    },
    {
     "name": "stdout",
     "output_type": "stream",
     "text": [
      "\u001b[33m\n",
      "Start epoch 22\n",
      "\u001b[0m"
     ]
    },
    {
     "name": "stderr",
     "output_type": "stream",
     "text": [
      "Train 22/15:  97%|█████████▋| 454/469 [00:02<00:00, 255.29it/s, loss=4.05e-5, top1=0.999]"
     ]
    }
   ],
   "source": [
    "model_arch = \"Perceptron100\" #Perceptron20, Perceptron40, Perceptron100, Perceptron200, Perceptron400\n",
    "dataset = \"MNIST\"\n",
    "strategy = \"LayerMagWeight\"\n",
    "sparsity = [1, 0.01, 0.005, 0.0025, 0.001, 0.00075, 0.0005, 0.0001] #modify this to make graph look like below, record the sparsity you used\n",
    "compressions = [[1/i,1/i] for i in sparsity]\n",
    "#don't change below\n",
    "model_layers = [100, 100, 10]\n",
    "sample_points = 5\n",
    "method = 'none'\n",
    "model_num = 1\n",
    "csv_name = 'testing123'\n",
    "times = 2\n",
    "\n",
    "acc_lst = []\n",
    "acc_temp = []\n",
    "for i in range(times):\n",
    "    acc_temp.append(newExperiment(model_arch, dataset, strategy, compressions, model_layers, csv_name, sample_points, method, model_num, seed=i))\n",
    "    \n",
    "for c in range(len(acc_temp[0])):\n",
    "    sum_a = 0\n",
    "    for seed in range(times):\n",
    "        sum_a += acc_temp[seed][c]\n",
    "    sum_a = sum_a / times\n",
    "    acc_lst.append(sum_a)"
   ]
  },
  {
   "cell_type": "code",
   "execution_count": 11,
   "id": "2ad73065",
   "metadata": {},
   "outputs": [
    {
     "data": {
      "text/plain": [
       "[<matplotlib.lines.Line2D at 0x7ff7861f9d50>]"
      ]
     },
     "execution_count": 11,
     "metadata": {},
     "output_type": "execute_result"
    },
    {
     "data": {
      "image/png": "[encoded data removed]",
      "text/plain": [
       "<Figure size 432x288 with 1 Axes>"
      ]
     },
     "metadata": {
      "needs_background": "light"
     },
     "output_type": "display_data"
    }
   ],
   "source": [
    "plt.plot([str(i) for i in sparsity], acc_lst, \"-o\")"
   ]
  },
  {
   "cell_type": "code",
   "execution_count": null,
   "id": "c8e71c3b",
   "metadata": {},
   "outputs": [
    {
     "name": "stdout",
     "output_type": "stream",
     "text": [
      "\u001b[92mGPU AVAILABLE\n",
      "\u001b[0m\u001b[95mLogging results to results/20220913-195931-USBI-Perceptron200_C10\n",
      "\u001b[0m"
     ]
    },
    {
     "name": "stderr",
     "output_type": "stream",
     "text": [
      "Val -1/15: 100%|██████████| 79/79 [00:00<00:00, 125.39it/s, loss=0.018, top1=0.115]\n"
     ]
    },
    {
     "name": "stdout",
     "output_type": "stream",
     "text": [
      "\u001b[33m\n",
      "Start epoch 0\n",
      "\u001b[0m"
     ]
    },
    {
     "name": "stderr",
     "output_type": "stream",
     "text": [
      "Train 0/15: 100%|██████████| 391/391 [00:03<00:00, 117.11it/s, loss=0.0143, top1=0.336]\n",
      "Val 0/15: 100%|██████████| 79/79 [00:00<00:00, 125.08it/s, loss=0.0131, top1=0.399]\n"
     ]
    },
    {
     "name": "stdout",
     "output_type": "stream",
     "text": [
      "\u001b[33m\n",
      "Start epoch 1\n",
      "\u001b[0m"
     ]
    },
    {
     "name": "stderr",
     "output_type": "stream",
     "text": [
      "Train 1/15: 100%|██████████| 391/391 [00:03<00:00, 110.98it/s, loss=0.0129, top1=0.407]\n",
      "Val 1/15: 100%|██████████| 79/79 [00:00<00:00, 114.99it/s, loss=0.0122, top1=0.44] \n"
     ]
    },
    {
     "name": "stdout",
     "output_type": "stream",
     "text": [
      "\u001b[33m\n",
      "Start epoch 2\n",
      "\u001b[0m"
     ]
    },
    {
     "name": "stderr",
     "output_type": "stream",
     "text": [
      "Train 2/15: 100%|██████████| 391/391 [00:03<00:00, 109.82it/s, loss=0.0123, top1=0.434]\n",
      "Val 2/15: 100%|██████████| 79/79 [00:00<00:00, 114.10it/s, loss=0.012, top1=0.441] \n"
     ]
    },
    {
     "name": "stdout",
     "output_type": "stream",
     "text": [
      "\u001b[33m\n",
      "Start epoch 3\n",
      "\u001b[0m"
     ]
    },
    {
     "name": "stderr",
     "output_type": "stream",
     "text": [
      "Train 3/15: 100%|██████████| 391/391 [00:03<00:00, 112.91it/s, loss=0.012, top1=0.449] \n",
      "Val 3/15: 100%|██████████| 79/79 [00:00<00:00, 112.47it/s, loss=0.0119, top1=0.458]\n"
     ]
    },
    {
     "name": "stdout",
     "output_type": "stream",
     "text": [
      "\u001b[33m\n",
      "Start epoch 4\n",
      "\u001b[0m"
     ]
    },
    {
     "name": "stderr",
     "output_type": "stream",
     "text": [
      "Train 4/15:  68%|██████▊   | 266/391 [00:02<00:00, 128.55it/s, loss=0.0117, top1=0.462]"
     ]
    }
   ],
   "source": [
    "model_arch = \"Perceptron200_C10\"#\"Perceptron200_C10\",\"Perceptron400_C10\", \"Perceptron800_C10\"\n",
    "dataset = \"CIFAR10\" \n",
    "strategy = \"LayerMagWeight\"\n",
    "sparsity = [1,0.1,0.01,0.001,0.0001,0.00001]\n",
    "compressions = [[1/i,1/i] for i in sparsity]\n",
    "#don't change below\n",
    "model_layers = [25, 15, 10]\n",
    "sample_points = 5\n",
    "method = 'none'\n",
    "model_num = 1\n",
    "csv_name = 'testing123'\n",
    "times = 2\n",
    "\n",
    "acc_lst = []\n",
    "acc_temp = []\n",
    "for i in range(times):\n",
    "    acc_temp.append(newExperiment(model_arch, dataset, strategy, compressions, model_layers, csv_name, sample_points, method, model_num, seed=i))\n",
    "    \n",
    "for c in range(len(acc_temp[0])):\n",
    "    sum_a = 0\n",
    "    for seed in range(times):\n",
    "        sum_a += acc_temp[seed][c]\n",
    "    sum_a = sum_a / times\n",
    "    acc_lst.append(sum_a)"
   ]
  },
  {
   "cell_type": "code",
   "execution_count": null,
   "id": "86945464",
   "metadata": {},
   "outputs": [],
   "source": [
    "plt.plot([str(i) for i in sparsity], acc_lst, \"-o\")"
   ]
  },
  {
   "cell_type": "code",
   "execution_count": null,
   "id": "934554e1",
   "metadata": {},
   "outputs": [],
   "source": []
  }
 ],
 "metadata": {
  "kernelspec": {
   "display_name": "Python 3",
   "language": "python",
   "name": "python3"
  },
  "language_info": {
   "codemirror_mode": {
    "name": "ipython",
    "version": 3
   },
   "file_extension": ".py",
   "mimetype": "text/x-python",
   "name": "python",
   "nbconvert_exporter": "python",
   "pygments_lexer": "ipython3",
   "version": "3.9.12"
  }
 },
 "nbformat": 4,
 "nbformat_minor": 5
}
